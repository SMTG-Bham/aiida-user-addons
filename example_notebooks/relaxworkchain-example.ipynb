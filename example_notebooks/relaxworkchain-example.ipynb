{
 "cells": [
  {
   "cell_type": "markdown",
   "metadata": {},
   "source": [
    "## Example of using `VaspRelaxationWorkChain`"
   ]
  },
  {
   "cell_type": "code",
   "execution_count": 2,
   "metadata": {},
   "outputs": [
    {
     "data": {
      "application/json": {
       "current_state": "Loaded AiiDA DB environment - profile name: demo."
      },
      "text/html": [
       "<p>Loaded AiiDA DB environment - profile name: demo.</p>"
      ],
      "text/latex": [
       "Loaded AiiDA DB environment - profile name: demo.\n"
      ],
      "text/plain": [
       "Loaded AiiDA DB environment - profile name: demo.\n"
      ]
     },
     "execution_count": 2,
     "metadata": {},
     "output_type": "execute_result"
    }
   ],
   "source": [
    "%aiida demo"
   ]
  },
  {
   "cell_type": "code",
   "execution_count": 3,
   "metadata": {},
   "outputs": [],
   "source": [
    "from pymatgen import get_structure_from_mp\n",
    "from aiida.orm import StructureData\n",
    "from aiida_user_addons.common.inputset.vaspsets import VASPInputSet\n",
    "from aiida_user_addons.tools.dryrun import dryrun_vasp\n",
    "from aiida_user_addons.vworkflows.relax import VaspRelaxWorkChain, RelaxOptions\n",
    "from pprint import pprint"
   ]
  },
  {
   "cell_type": "markdown",
   "metadata": {},
   "source": [
    "Just get a SrTiO3 structure from materials project"
   ]
  },
  {
   "cell_type": "code",
   "execution_count": 4,
   "metadata": {},
   "outputs": [],
   "source": [
    "sto = StructureData(pymatgen=get_structure_from_mp(\"mp-5229\"))"
   ]
  },
  {
   "cell_type": "code",
   "execution_count": 5,
   "metadata": {},
   "outputs": [
    {
     "data": {
      "text/plain": [
       "Structure Summary\n",
       "Lattice\n",
       "    abc : 3.94513 3.94513 3.94513\n",
       " angles : 90.0 90.0 90.0\n",
       " volume : 61.40220340476369\n",
       "      A : 3.94513 0.0 0.0\n",
       "      B : 0.0 3.94513 0.0\n",
       "      C : 0.0 0.0 3.94513\n",
       "PeriodicSite: Sr (0.0000, 0.0000, 0.0000) [0.0000, 0.0000, 0.0000]\n",
       "PeriodicSite: Ti (1.9726, 1.9726, 1.9726) [0.5000, 0.5000, 0.5000]\n",
       "PeriodicSite: O (1.9726, 0.0000, 1.9726) [0.5000, 0.0000, 0.5000]\n",
       "PeriodicSite: O (1.9726, 1.9726, 0.0000) [0.5000, 0.5000, 0.0000]\n",
       "PeriodicSite: O (0.0000, 1.9726, 1.9726) [0.0000, 0.5000, 0.5000]"
      ]
     },
     "execution_count": 5,
     "metadata": {},
     "output_type": "execute_result"
    }
   ],
   "source": [
    "sto.get_pymatgen()"
   ]
  },
  {
   "cell_type": "markdown",
   "metadata": {},
   "source": [
    "Break the symmetry"
   ]
  },
  {
   "cell_type": "code",
   "execution_count": 8,
   "metadata": {},
   "outputs": [],
   "source": [
    "sto.sites[0].x = 0.1"
   ]
  },
  {
   "cell_type": "markdown",
   "metadata": {},
   "source": [
    "Load some default input dictionary, note one can customise it using the `overrides` settings.  \n",
    "These sets are for convenience only - the full input is always recorded by AiiDA"
   ]
  },
  {
   "cell_type": "code",
   "execution_count": 12,
   "metadata": {},
   "outputs": [
    {
     "data": {
      "text/plain": [
       "{'prec': 'accurate',\n",
       " 'encut': 400,\n",
       " 'lreal': False,\n",
       " 'ismear': 0,\n",
       " 'sigma': 0.05,\n",
       " 'ispin': 2,\n",
       " 'algo': 'normal',\n",
       " 'nwrite': 1,\n",
       " 'icorelevel': 1,\n",
       " 'lwave': False,\n",
       " 'nelm': 200,\n",
       " 'nelmin': 4,\n",
       " 'lasph': True,\n",
       " 'lvhar': True,\n",
       " 'nedos': 2000,\n",
       " 'isif': 3,\n",
       " 'gga': 'ps',\n",
       " 'ediff': 4.9999999999999996e-06,\n",
       " 'ldauu': [0.0, 4.0, 0.0],\n",
       " 'ldauj': [0.0, 0.0, 0.0],\n",
       " 'ldautype': 2,\n",
       " 'lmaxmix': 4,\n",
       " 'ldaul': [-1, 2, -1],\n",
       " 'ldau': True}"
      ]
     },
     "execution_count": 12,
     "metadata": {},
     "output_type": "execute_result"
    }
   ],
   "source": [
    "inputset = VASPInputSet(\"UCLRelaxSet\", sto, overrides={'encut': 400, 'lorbit': None})\n",
    "inputset.get_input_dict()"
   ]
  },
  {
   "cell_type": "code",
   "execution_count": 22,
   "metadata": {},
   "outputs": [],
   "source": [
    "builder =VaspRelaxWorkChain.get_builder()\n",
    "builder.structure = sto\n",
    "\n",
    "# The actual calculations parameters are set under the `vasp` input port\n",
    "\n",
    "builder.vasp.parameters = inputset.get_input_dict(raw_python=False)\n",
    "builder.vasp.potential_family = Str('PBE.54')\n",
    "builder.vasp.potential_mapping = Dict(dict=inputset.get_pp_mapping())\n",
    "builder.vasp.options = Dict(dict={\n",
    "    'resources': {'num_machines': 1, 'tot_num_mpiprocs': 4}\n",
    "})\n",
    "builder.vasp.kpoints_spacing = Float(0.07)   # Use a coarse kpoint spacing of 0.07 A^-1 2*pi\n",
    "builder.vasp.code = Code.get_from_string(\"vasp@localhost\")\n",
    "builder.metadata.label = 'STO broken'"
   ]
  },
  {
   "cell_type": "markdown",
   "metadata": {},
   "source": [
    "Set the relaxation settings  \n",
    "The `RelaxOptions` provides some default parameters to control the relaxation"
   ]
  },
  {
   "cell_type": "code",
   "execution_count": 23,
   "metadata": {},
   "outputs": [],
   "source": [
    "relax_options = RelaxOptions(convergence_on=True, \n",
    "                             # Converge between the input and output structure, need when we expect large cell colume change to ensure basis set consistency\n",
    "                             # The default is 'last', which will check against the last two structures\n",
    "                             convergence_mode='inout'   \n",
    "                            )"
   ]
  },
  {
   "cell_type": "code",
   "execution_count": 24,
   "metadata": {},
   "outputs": [
    {
     "name": "stdout",
     "output_type": "stream",
     "text": [
      "{'algo': 'cg',\n",
      " 'convergence_absolute': False,\n",
      " 'convergence_max_iterations': 5,\n",
      " 'convergence_mode': 'inout',\n",
      " 'convergence_on': True,\n",
      " 'convergence_positions': 0.1,\n",
      " 'convergence_shape_angles': 0.1,\n",
      " 'convergence_shape_lengths': 0.1,\n",
      " 'convergence_volume': 0.01,\n",
      " 'force_cutoff': 0.03,\n",
      " 'perform': True,\n",
      " 'positions': True,\n",
      " 'shape': True,\n",
      " 'steps': 60,\n",
      " 'volume': True}\n"
     ]
    }
   ],
   "source": [
    "pprint(relax_options.to_dict())"
   ]
  },
  {
   "cell_type": "markdown",
   "metadata": {},
   "source": [
    "One can also set them interactively, just like the `builder`"
   ]
  },
  {
   "cell_type": "code",
   "execution_count": 25,
   "metadata": {},
   "outputs": [],
   "source": [
    "relax_options.force_cutoff = 0.05  ## Try tab-completion with other keys"
   ]
  },
  {
   "cell_type": "code",
   "execution_count": 26,
   "metadata": {},
   "outputs": [],
   "source": [
    "builder.relax_settings = relax_options.to_aiida_dict()"
   ]
  },
  {
   "cell_type": "markdown",
   "metadata": {},
   "source": [
    "Finally we submit the calculation"
   ]
  },
  {
   "cell_type": "code",
   "execution_count": 27,
   "metadata": {},
   "outputs": [],
   "source": [
    "from aiida.engine import submit"
   ]
  },
  {
   "cell_type": "code",
   "execution_count": 28,
   "metadata": {},
   "outputs": [
    {
     "data": {
      "text/plain": [
       "<WorkChainNode: uuid: b600f44c-3b54-44c0-8ec4-06cc7a967e3d (pk: 34559) (aiida.workflows:vaspu.relax)>"
      ]
     },
     "execution_count": 28,
     "metadata": {},
     "output_type": "execute_result"
    }
   ],
   "source": [
    "running = submit(builder)\n",
    "running"
   ]
  },
  {
   "cell_type": "markdown",
   "metadata": {},
   "source": [
    "## Analysis"
   ]
  },
  {
   "cell_type": "markdown",
   "metadata": {},
   "source": [
    "load the node using UUID - this ensures that if we restart the notebook we can carry on with the analysis"
   ]
  },
  {
   "cell_type": "code",
   "execution_count": 29,
   "metadata": {},
   "outputs": [],
   "source": [
    "work = load_node(\"b600f44c\")  "
   ]
  },
  {
   "cell_type": "markdown",
   "metadata": {},
   "source": [
    "Verbose report emitted while the procss was running - we can see that the workchain checked the convergence and resubmit the job if not happy.  \n",
    "It will also do a final calculation to ensure the energy is accurate - VASP can only do constant-basis relaxations. "
   ]
  },
  {
   "cell_type": "code",
   "execution_count": 32,
   "metadata": {},
   "outputs": [
    {
     "name": "stdout",
     "output_type": "stream",
     "text": []
    },
    {
     "name": "stdout",
     "output_type": "stream",
     "text": []
    },
    {
     "name": "stdout",
     "output_type": "stream",
     "text": [
      "\u001b[22m2020-09-27 20:09:47 [5104 | REPORT]: [34559|VaspRelaxWorkChain|run_relax]: launching VaspWorkChain<34562> iterations #1\n",
      "2020-09-27 20:09:48 [5105 | REPORT]:   [34562|VaspWorkChain|run_calculation]: launching VaspCalculation<34565> iteration #1\n",
      "2020-09-27 20:11:03 [5106 | REPORT]:   [34562|VaspWorkChain|_handle_succesfull]: VaspCalculation<34565> completed successfully\n",
      "2020-09-27 20:11:03 [5107 | REPORT]:   [34562|VaspWorkChain|results]: VaspWorkChain<34562> completed after 1 iterations\n",
      "2020-09-27 20:11:03 [5108 | REPORT]:   [34562|VaspWorkChain|on_terminated]: cleaned remote folders of calculations: 34565\n",
      "2020-09-27 20:11:03 [5109 | REPORT]: [34559|VaspRelaxWorkChain|analyze_convergence]: Checking the convergence of the relaxation.\n",
      "2020-09-27 20:11:03 [5110 | REPORT]: [34559|VaspRelaxWorkChain|check_positions_convergence]: max site position change is 0.03543, tolerance is 0.1 - OK\n",
      "2020-09-27 20:11:03 [5111 | REPORT]: [34559|VaspRelaxWorkChain|check_volume_convergence]: cell volume changed by 0.03079, tolerance is 0.01 - NOT OK\n",
      "2020-09-27 20:11:03 [5112 | REPORT]: [34559|VaspRelaxWorkChain|check_shape_convergence]: cell lengths changed by max 0.01037, tolerance is 0.1 - OK\n",
      "2020-09-27 20:11:03 [5113 | REPORT]: [34559|VaspRelaxWorkChain|check_shape_convergence]: cell angles changed by max 0, tolerance is 0.1 - OK\n",
      "2020-09-27 20:11:03 [5114 | REPORT]: [34559|VaspRelaxWorkChain|analyze_convergence]: Maximum force in the structure 0 - OK\n",
      "2020-09-27 20:11:03 [5115 | REPORT]: [34559|VaspRelaxWorkChain|analyze_convergence]: Relaxation did not converge, restarting the relaxation.\n",
      "2020-09-27 20:11:04 [5116 | REPORT]: [34559|VaspRelaxWorkChain|run_relax]: launching VaspWorkChain<34571> iterations #2\n",
      "2020-09-27 20:11:05 [5117 | REPORT]:   [34571|VaspWorkChain|run_calculation]: launching VaspCalculation<34574> iteration #1\n",
      "2020-09-27 20:12:14 [5118 | REPORT]:   [34571|VaspWorkChain|_handle_succesfull]: VaspCalculation<34574> completed successfully\n",
      "2020-09-27 20:12:14 [5119 | REPORT]:   [34571|VaspWorkChain|results]: VaspWorkChain<34571> completed after 1 iterations\n",
      "2020-09-27 20:12:15 [5120 | REPORT]:   [34571|VaspWorkChain|on_terminated]: cleaned remote folders of calculations: 34574\n",
      "2020-09-27 20:12:15 [5121 | REPORT]: [34559|VaspRelaxWorkChain|analyze_convergence]: Checking the convergence of the relaxation.\n",
      "2020-09-27 20:12:15 [5122 | REPORT]: [34559|VaspRelaxWorkChain|check_positions_convergence]: max site position change is 0.005996, tolerance is 0.1 - OK\n",
      "2020-09-27 20:12:15 [5123 | REPORT]: [34559|VaspRelaxWorkChain|check_volume_convergence]: cell volume changed by 0.005311, tolerance is 0.01 - OK\n",
      "2020-09-27 20:12:15 [5124 | REPORT]: [34559|VaspRelaxWorkChain|check_shape_convergence]: cell lengths changed by max 0.001773, tolerance is 0.1 - OK\n",
      "2020-09-27 20:12:15 [5125 | REPORT]: [34559|VaspRelaxWorkChain|check_shape_convergence]: cell angles changed by max 0, tolerance is 0.1 - OK\n",
      "2020-09-27 20:12:15 [5126 | REPORT]: [34559|VaspRelaxWorkChain|analyze_convergence]: Maximum force in the structure 0 - OK\n",
      "2020-09-27 20:12:15 [5127 | REPORT]: [34559|VaspRelaxWorkChain|analyze_convergence]: Relaxation is converged, finishing with a final static calculation.\n",
      "2020-09-27 20:12:15 [5128 | REPORT]: [34559|VaspRelaxWorkChain|store_relaxed]: attaching the node StructureData<34577> as 'relax.structure'\n",
      "2020-09-27 20:12:15 [5129 | REPORT]: [34559|VaspRelaxWorkChain|init_relaxed]: performing a final calculation using the relaxed structure.\n",
      "2020-09-27 20:12:16 [5130 | REPORT]: [34559|VaspRelaxWorkChain|run_static_calculation]: launching VaspWorkChain<34580> iterations #3\n",
      "2020-09-27 20:12:17 [5131 | REPORT]:   [34580|VaspWorkChain|run_calculation]: launching VaspCalculation<34583> iteration #1\n",
      "2020-09-27 20:12:55 [5132 | REPORT]:   [34580|VaspWorkChain|_handle_succesfull]: VaspCalculation<34583> completed successfully\n",
      "2020-09-27 20:12:55 [5133 | REPORT]:   [34580|VaspWorkChain|results]: VaspWorkChain<34580> completed after 1 iterations\n",
      "2020-09-27 20:12:56 [5134 | REPORT]:   [34580|VaspWorkChain|on_terminated]: cleaned remote folders of calculations: 34583\u001b[0m\n"
     ]
    }
   ],
   "source": [
    "!verdi process report b600f44c"
   ]
  },
  {
   "cell_type": "code",
   "execution_count": 34,
   "metadata": {},
   "outputs": [
    {
     "data": {
      "text/plain": [
       "61.40220340476369"
      ]
     },
     "execution_count": 34,
     "metadata": {},
     "output_type": "execute_result"
    }
   ],
   "source": [
    "work.inputs.structure.get_cell_volume()"
   ]
  },
  {
   "cell_type": "code",
   "execution_count": 35,
   "metadata": {},
   "outputs": [
    {
     "data": {
      "text/plain": [
       "59.1958127334041"
      ]
     },
     "execution_count": 35,
     "metadata": {},
     "output_type": "execute_result"
    }
   ],
   "source": [
    "work.outputs.relax__structure.get_cell_volume()"
   ]
  },
  {
   "cell_type": "code",
   "execution_count": 40,
   "metadata": {},
   "outputs": [
    {
     "data": {
      "text/plain": [
       "{'symmetries': {'point_group': {'static': [None], 'dynamic': [None]},\n",
       "  'primitive_translations': [1],\n",
       "  'num_space_group_operations': {'static': [48], 'dynamic': [48]}},\n",
       " 'stdout_error': [{'message': 'WARNING: Linux kernel CMA support was requested via the',\n",
       "   'critical': False,\n",
       "   'shortname': 'general'}],\n",
       " 'magnetization': [-0.0001913],\n",
       " 'maximum_force': 0.0,\n",
       " 'maximum_stress': 0.07710148,\n",
       " 'total_energies': {'energy_no_entropy': -38.92753782}}"
      ]
     },
     "execution_count": 40,
     "metadata": {},
     "output_type": "execute_result"
    }
   ],
   "source": [
    "work.outputs.misc.get_dict()"
   ]
  },
  {
   "cell_type": "markdown",
   "metadata": {},
   "source": [
    "## Provenance graph example"
   ]
  },
  {
   "cell_type": "code",
   "execution_count": 36,
   "metadata": {},
   "outputs": [],
   "source": [
    "from aiida.tools.visualization import Graph\n",
    "\n",
    "g = Graph()\n",
    "g.recurse_descendants(work)\n",
    "g.recurse_ancestors(work, depth=1)"
   ]
  },
  {
   "cell_type": "code",
   "execution_count": 38,
   "metadata": {},
   "outputs": [
    {
     "data": {
      "text/plain": [
       "'relax.png'"
      ]
     },
     "execution_count": 38,
     "metadata": {},
     "output_type": "execute_result"
    }
   ],
   "source": [
    "g.graphviz.render('relax', format='png')"
   ]
  },
  {
   "cell_type": "markdown",
   "metadata": {},
   "source": [
    "![Relaxation Provenance](relax.png)"
   ]
  }
 ],
 "metadata": {
  "kernelspec": {
   "display_name": "Python [conda env:aiida-1.0-dev]",
   "language": "python",
   "name": "conda-env-aiida-1.0-dev-py"
  },
  "language_info": {
   "codemirror_mode": {
    "name": "ipython",
    "version": 3
   },
   "file_extension": ".py",
   "mimetype": "text/x-python",
   "name": "python",
   "nbconvert_exporter": "python",
   "pygments_lexer": "ipython3",
   "version": "3.7.7"
  }
 },
 "nbformat": 4,
 "nbformat_minor": 4
}
