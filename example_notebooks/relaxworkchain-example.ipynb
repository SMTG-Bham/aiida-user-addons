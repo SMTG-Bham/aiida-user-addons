{
 "cells": [
  {
   "cell_type": "markdown",
   "metadata": {},
   "source": [
    "## Example of using `VaspRelaxationWorkChain`"
   ]
  },
  {
   "cell_type": "code",
   "execution_count": 1,
   "metadata": {},
   "outputs": [
    {
     "data": {
      "application/json": {
       "current_state": "Loaded AiiDA DB environment - profile name: 2.0-dev."
      },
      "text/html": [
       "<p>Loaded AiiDA DB environment - profile name: 2.0-dev.</p>"
      ],
      "text/latex": [
       "Loaded AiiDA DB environment - profile name: 2.0-dev.\n"
      ],
      "text/plain": [
       "Loaded AiiDA DB environment - profile name: 2.0-dev.\n"
      ]
     },
     "execution_count": 1,
     "metadata": {},
     "output_type": "execute_result"
    }
   ],
   "source": [
    "%load_ext aiida\n",
    "%aiida"
   ]
  },
  {
   "cell_type": "code",
   "execution_count": 2,
   "metadata": {},
   "outputs": [],
   "source": [
    "from aiida_user_addons.tools.pymatgen import load_mp_struct\n",
    "from aiida.orm import StructureData\n",
    "from aiida_user_addons.common.inputset.vaspsets import VASPInputSet\n",
    "from aiida_user_addons.tools.dryrun import dryrun_vasp\n",
    "from aiida_user_addons.vworkflows.relax import VaspRelaxWorkChain\n",
    "from pprint import pprint"
   ]
  },
  {
   "cell_type": "markdown",
   "metadata": {},
   "source": [
    "Just get a SrTiO3 structure from materials project"
   ]
  },
  {
   "cell_type": "code",
   "execution_count": 3,
   "metadata": {},
   "outputs": [],
   "source": [
    "sto = load_mp_struct(\"mp-5229\")"
   ]
  },
  {
   "cell_type": "code",
   "execution_count": 4,
   "metadata": {},
   "outputs": [
    {
     "data": {
      "text/plain": [
       "Structure Summary\n",
       "Lattice\n",
       "    abc : 3.94513 3.94513 3.94513\n",
       " angles : 90.0 90.0 90.0\n",
       " volume : 61.40220340476369\n",
       "      A : 3.94513 0.0 0.0\n",
       "      B : 0.0 3.94513 0.0\n",
       "      C : 0.0 0.0 3.94513\n",
       "    pbc : True True True\n",
       "PeriodicSite: Sr (0.0000, 0.0000, 0.0000) [0.0000, 0.0000, 0.0000]\n",
       "PeriodicSite: Ti (1.9726, 1.9726, 1.9726) [0.5000, 0.5000, 0.5000]\n",
       "PeriodicSite: O (1.9726, 0.0000, 1.9726) [0.5000, 0.0000, 0.5000]\n",
       "PeriodicSite: O (1.9726, 1.9726, 0.0000) [0.5000, 0.5000, 0.0000]\n",
       "PeriodicSite: O (0.0000, 1.9726, 1.9726) [0.0000, 0.5000, 0.5000]"
      ]
     },
     "execution_count": 4,
     "metadata": {},
     "output_type": "execute_result"
    }
   ],
   "source": [
    "sto.get_pymatgen()"
   ]
  },
  {
   "cell_type": "markdown",
   "metadata": {},
   "source": [
    "Break the symmetry"
   ]
  },
  {
   "cell_type": "code",
   "execution_count": 5,
   "metadata": {},
   "outputs": [],
   "source": [
    "sto.sites[0].x = 0.1"
   ]
  },
  {
   "cell_type": "markdown",
   "metadata": {},
   "source": [
    "Load some default input dictionary, note one can customise it using the `overrides` settings.  \n",
    "Here we use `VaspRelaxUpdater` which is designed for quick setup of `ProcessBuilder` for `VaspRelaxWorkChain`.\n",
    "\n",
    "These sets are for convenience only - the full input is always recorded by AiiDA."
   ]
  },
  {
   "cell_type": "code",
   "execution_count": 6,
   "metadata": {},
   "outputs": [],
   "source": [
    "from aiida_user_addons.common.builder_updater import VaspRelaxUpdater"
   ]
  },
  {
   "cell_type": "code",
   "execution_count": 7,
   "metadata": {},
   "outputs": [
    {
     "name": "stdout",
     "output_type": "stream",
     "text": [
      "Using input set file at: /home/bonan/aiida_envs/aiida-2.0-dev/aiida-user-addons/aiida_user_addons/common/inputset/UCLRelaxSet.yaml\n"
     ]
    },
    {
     "name": "stderr",
     "output_type": "stream",
     "text": [
      "/home/bonan/aiida_envs/aiida-2.0-dev/aiida-user-addons/aiida_user_addons/common/builder_updater.py:267: UserWarning: Using default options template - adjustment needed for the target computer\n",
      "  warn(\n"
     ]
    },
    {
     "data": {
      "text/plain": [
       "<aiida_user_addons.common.builder_updater.VaspRelaxUpdater at 0x7f30d54b2580>"
      ]
     },
     "execution_count": 7,
     "metadata": {},
     "output_type": "execute_result"
    }
   ],
   "source": [
    "builder = VaspRelaxWorkChain.get_builder()\n",
    "upd = VaspRelaxUpdater(builder)\n",
    "\n",
    "# The actual calculations parameters are set under the `vasp` input port\n",
    "upd.use_inputset(sto, \"UCLRelaxSet\", overrides={'encut': 400, 'lorbit': None})\n",
    "upd.set_code(Code.get_from_string(\"vasp-std@localhost\"))\n",
    "upd.set_kspacing(0.05) # In unit of A^1 * 2pi\n",
    "upd.set_label('STO broken')\n",
    "upd.update_options(max_wallclock_seconds=3600)\n",
    "upd.set_resources(num_machines=1, tot_num_mpiprocs=2)"
   ]
  },
  {
   "cell_type": "markdown",
   "metadata": {},
   "source": [
    "Full inputs can be peek by checking the `.builder` attribute"
   ]
  },
  {
   "cell_type": "code",
   "execution_count": 8,
   "metadata": {},
   "outputs": [
    {
     "data": {
      "text/plain": [
       "Process class: VaspRelaxWorkChain\n",
       "Inputs:\n",
       "metadata:\n",
       "  label: STO broken\n",
       "structure: O3SrTi\n",
       "vasp:\n",
       "  code: ''\n",
       "  dynamics: {}\n",
       "  kpoints_spacing: 0.05\n",
       "  metadata: {}\n",
       "  options:\n",
       "    import_sys_environment: false\n",
       "    max_wallclock_seconds: 3600\n",
       "    resources:\n",
       "      num_machines: 1\n",
       "      tot_num_mpiprocs: 2\n",
       "  parameters:\n",
       "    incar:\n",
       "      algo: normal\n",
       "      ediff: 4.9999999999999996e-06\n",
       "      encut: 400\n",
       "      gga: ps\n",
       "      ismear: 0\n",
       "      ispin: 2\n",
       "      lasph: true\n",
       "      ldau: true\n",
       "      ldauj:\n",
       "      - 0.0\n",
       "      - 0.0\n",
       "      - 0.0\n",
       "      ldaul:\n",
       "      - -1\n",
       "      - 2\n",
       "      - -1\n",
       "      ldautype: 2\n",
       "      ldauu:\n",
       "      - 0.0\n",
       "      - 4.0\n",
       "      - 0.0\n",
       "      lmaxmix: 4\n",
       "      lreal: false\n",
       "      lvhar: true\n",
       "      lwave: false\n",
       "      nedos: 2000\n",
       "      nelm: 200\n",
       "      nelmin: 4\n",
       "      nwrite: 1\n",
       "      prec: accurate\n",
       "      sigma: 0.05\n",
       "  potential_family: PBE.54\n",
       "  potential_mapping:\n",
       "    O: O\n",
       "    Sr: Sr_sv\n",
       "    Ti: Ti_pv\n"
      ]
     },
     "execution_count": 8,
     "metadata": {},
     "output_type": "execute_result"
    }
   ],
   "source": [
    "upd.builder"
   ]
  },
  {
   "cell_type": "markdown",
   "metadata": {},
   "source": [
    "Set the relaxation settings  \n",
    "The provides some default parameters to control the relaxation"
   ]
  },
  {
   "cell_type": "code",
   "execution_count": 9,
   "metadata": {},
   "outputs": [
    {
     "data": {
      "text/plain": [
       "<aiida_user_addons.common.builder_updater.VaspRelaxUpdater at 0x7f30d54b2580>"
      ]
     },
     "execution_count": 9,
     "metadata": {},
     "output_type": "execute_result"
    }
   ],
   "source": [
    "upd.update_relax_settings(convergence_on=True, \n",
    "                             # Converge between the input and output structure, need when we expect large cell colume change to ensure basis set consistency\n",
    "                             # The default is 'last', which will check against the last two structures\n",
    "                             convergence_mode='inout'   \n",
    "                            )"
   ]
  },
  {
   "cell_type": "markdown",
   "metadata": {},
   "source": [
    "A new `relax_settings` field should be configured in the builder"
   ]
  },
  {
   "cell_type": "code",
   "execution_count": 10,
   "metadata": {},
   "outputs": [
    {
     "data": {
      "text/plain": [
       "Process class: VaspRelaxWorkChain\n",
       "Inputs:\n",
       "metadata:\n",
       "  label: STO broken\n",
       "relax_settings:\n",
       "  algo: cg\n",
       "  clean_reuse: true\n",
       "  convergence_absolute: false\n",
       "  convergence_max_iterations: 5\n",
       "  convergence_mode: inout\n",
       "  convergence_on: true\n",
       "  convergence_positions: 0.1\n",
       "  convergence_shape_angles: 0.1\n",
       "  convergence_shape_lengths: 0.1\n",
       "  convergence_volume: 0.01\n",
       "  force_cutoff: 0.03\n",
       "  keep_magnetization: false\n",
       "  keep_sp_workdir: false\n",
       "  perform: true\n",
       "  positions: true\n",
       "  reuse: false\n",
       "  shape: true\n",
       "  steps: 60\n",
       "  volume: true\n",
       "structure: O3SrTi\n",
       "vasp:\n",
       "  code: ''\n",
       "  dynamics: {}\n",
       "  kpoints_spacing: 0.05\n",
       "  metadata: {}\n",
       "  options:\n",
       "    import_sys_environment: false\n",
       "    max_wallclock_seconds: 3600\n",
       "    resources:\n",
       "      num_machines: 1\n",
       "      tot_num_mpiprocs: 2\n",
       "  parameters:\n",
       "    incar:\n",
       "      algo: normal\n",
       "      ediff: 4.9999999999999996e-06\n",
       "      encut: 400\n",
       "      gga: ps\n",
       "      ismear: 0\n",
       "      ispin: 2\n",
       "      lasph: true\n",
       "      ldau: true\n",
       "      ldauj:\n",
       "      - 0.0\n",
       "      - 0.0\n",
       "      - 0.0\n",
       "      ldaul:\n",
       "      - -1\n",
       "      - 2\n",
       "      - -1\n",
       "      ldautype: 2\n",
       "      ldauu:\n",
       "      - 0.0\n",
       "      - 4.0\n",
       "      - 0.0\n",
       "      lmaxmix: 4\n",
       "      lreal: false\n",
       "      lvhar: true\n",
       "      lwave: false\n",
       "      nedos: 2000\n",
       "      nelm: 200\n",
       "      nelmin: 4\n",
       "      nwrite: 1\n",
       "      prec: accurate\n",
       "      sigma: 0.05\n",
       "  potential_family: PBE.54\n",
       "  potential_mapping:\n",
       "    O: O\n",
       "    Sr: Sr_sv\n",
       "    Ti: Ti_pv\n"
      ]
     },
     "execution_count": 10,
     "metadata": {},
     "output_type": "execute_result"
    }
   ],
   "source": [
    "upd.builder"
   ]
  },
  {
   "cell_type": "markdown",
   "metadata": {},
   "source": [
    "Finally we submit the calculation \n",
    "\n",
    "`submit` does not run the calculation but instead it serialise all inputs of the calculation to the storage and mark the process to be run.  \n",
    "The *daemon* will pick up the job and actually run it. The *daemon* can be started with `verdi daemon start`..."
   ]
  },
  {
   "cell_type": "code",
   "execution_count": 11,
   "metadata": {},
   "outputs": [],
   "source": [
    "from aiida.engine import submit"
   ]
  },
  {
   "cell_type": "code",
   "execution_count": 12,
   "metadata": {},
   "outputs": [
    {
     "data": {
      "text/plain": [
       "<WorkChainNode: uuid: eda79793-c3f9-42bd-ab67-40b94a8902ac (pk: 1006) (aiida.workflows:vaspu.relax)>"
      ]
     },
     "execution_count": 12,
     "metadata": {},
     "output_type": "execute_result"
    }
   ],
   "source": [
    "running = submit(builder)\n",
    "running"
   ]
  },
  {
   "cell_type": "markdown",
   "metadata": {},
   "source": [
    "## Analysis"
   ]
  },
  {
   "cell_type": "markdown",
   "metadata": {},
   "source": [
    "load the node using UUID - this ensures that if we restart the notebook we can carry on with the analysis"
   ]
  },
  {
   "cell_type": "code",
   "execution_count": 17,
   "metadata": {},
   "outputs": [],
   "source": [
    "work = load_node(\"eda79793\")  "
   ]
  },
  {
   "cell_type": "markdown",
   "metadata": {},
   "source": [
    "Verbose report emitted while the procss was running - we can see that the workchain checked the convergence and resubmit the job if not happy.  \n",
    "It will also do a final calculation to ensure the energy is accurate - VASP can only do constant-basis relaxations. "
   ]
  },
  {
   "cell_type": "code",
   "execution_count": 18,
   "metadata": {},
   "outputs": [
    {
     "name": "stdout",
     "output_type": "stream",
     "text": []
    },
    {
     "name": "stdout",
     "output_type": "stream",
     "text": []
    },
    {
     "name": "stdout",
     "output_type": "stream",
     "text": [
      "\u001b[22m2023-02-17 16:49:41 [78 | REPORT]: [1006|VaspRelaxWorkChain|run_relax]: launching VaspWorkChain<1009> iterations #1\n",
      "2023-02-17 16:49:42 [79 | REPORT]:   [1009|VaspWorkChain|run_process]: launching VaspCalculation<1012> iteration #1\u001b[0m\n"
     ]
    }
   ],
   "source": [
    "!verdi process report {work.id}"
   ]
  },
  {
   "cell_type": "code",
   "execution_count": 19,
   "metadata": {},
   "outputs": [
    {
     "data": {
      "text/plain": [
       "61.40220340476369"
      ]
     },
     "execution_count": 19,
     "metadata": {},
     "output_type": "execute_result"
    }
   ],
   "source": [
    "work.inputs.structure.get_cell_volume()"
   ]
  },
  {
   "cell_type": "code",
   "execution_count": 21,
   "metadata": {},
   "outputs": [
    {
     "data": {
      "text/plain": [
       "59.19834628391486"
      ]
     },
     "execution_count": 21,
     "metadata": {},
     "output_type": "execute_result"
    }
   ],
   "source": [
    "work.outputs.relax__structure.get_cell_volume()"
   ]
  },
  {
   "cell_type": "code",
   "execution_count": 22,
   "metadata": {},
   "outputs": [
    {
     "data": {
      "text/plain": [
       "{'version': '6.2.0',\n",
       " 'run_stats': {'user_time': 17.406,\n",
       "  'system_time': 0.27,\n",
       "  'elapsed_time': 17.777,\n",
       "  'mem_usage_base': 30000.0,\n",
       "  'mem_usage_grid': 9734.0,\n",
       "  'mem_usage_wavefun': 9717.0,\n",
       "  'mem_usage_fftplans': 3139.0,\n",
       "  'average_memory_used': None,\n",
       "  'maximum_memory_used': 102836.0,\n",
       "  'mem_usage_nonl-proj': 9661.0,\n",
       "  'total_cpu_time_used': 17.675,\n",
       "  'mem_usage_one-center': 155.0},\n",
       " 'run_status': {'nsw': 0,\n",
       "  'nelm': 200,\n",
       "  'nbands': 26,\n",
       "  'finished': True,\n",
       "  'ionic_converged': None,\n",
       "  'contains_nelm_breach': False,\n",
       "  'electronic_converged': True,\n",
       "  'last_iteration_index': [1, 15],\n",
       "  'consistent_nelm_breach': False},\n",
       " 'maximum_force': 0.0,\n",
       " 'notifications': [],\n",
       " 'maximum_stress': 0.34670663,\n",
       " 'total_energies': {'energy_extrapolated': -38.94422687,\n",
       "  'energy_extrapolated_electronic': -38.94422687}}"
      ]
     },
     "execution_count": 22,
     "metadata": {},
     "output_type": "execute_result"
    }
   ],
   "source": [
    "work.outputs.misc.get_dict()"
   ]
  },
  {
   "cell_type": "markdown",
   "metadata": {},
   "source": [
    "## Provenance graph example"
   ]
  },
  {
   "cell_type": "code",
   "execution_count": 23,
   "metadata": {},
   "outputs": [],
   "source": [
    "from aiida.tools.visualization import Graph\n",
    "\n",
    "g = Graph()\n",
    "g.recurse_descendants(work)\n",
    "g.recurse_ancestors(work, depth=1)"
   ]
  },
  {
   "cell_type": "code",
   "execution_count": 24,
   "metadata": {},
   "outputs": [
    {
     "data": {
      "text/plain": [
       "'relax.png'"
      ]
     },
     "execution_count": 24,
     "metadata": {},
     "output_type": "execute_result"
    }
   ],
   "source": [
    "g.graphviz.render('relax', format='png')"
   ]
  },
  {
   "cell_type": "markdown",
   "metadata": {},
   "source": [
    "![Relaxation Provenance](relax.png)"
   ]
  }
 ],
 "metadata": {
  "kernelspec": {
   "display_name": "Python [conda env:aiida-2.0-dev]",
   "language": "python",
   "name": "conda-env-aiida-2.0-dev-py"
  },
  "language_info": {
   "codemirror_mode": {
    "name": "ipython",
    "version": 3
   },
   "file_extension": ".py",
   "mimetype": "text/x-python",
   "name": "python",
   "nbconvert_exporter": "python",
   "pygments_lexer": "ipython3",
   "version": "3.8.10"
  }
 },
 "nbformat": 4,
 "nbformat_minor": 4
}
