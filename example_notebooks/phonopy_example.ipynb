{
 "cells": [
  {
   "cell_type": "code",
   "execution_count": 1,
   "metadata": {},
   "outputs": [
    {
     "data": {
      "application/json": {
       "current_state": "Loaded AiiDA DB environment - profile name: demo."
      },
      "text/html": [
       "<p>Loaded AiiDA DB environment - profile name: demo.</p>"
      ],
      "text/latex": [
       "Loaded AiiDA DB environment - profile name: demo.\n"
      ],
      "text/plain": [
       "Loaded AiiDA DB environment - profile name: demo.\n"
      ]
     },
     "execution_count": 1,
     "metadata": {},
     "output_type": "execute_result"
    }
   ],
   "source": [
    "%aiida demo"
   ]
  },
  {
   "cell_type": "code",
   "execution_count": 2,
   "metadata": {},
   "outputs": [],
   "source": [
    "from pymatgen import Structure"
   ]
  },
  {
   "cell_type": "code",
   "execution_count": 3,
   "metadata": {},
   "outputs": [],
   "source": [
    "from aiida_user_addons.common.inputset.vaspsets import VASPInputSet\n",
    "from aiida_user_addons.vworkflows.relax  import VaspRelaxWorkChain, RelaxOptions\n",
    "from aiida_user_addons.vworkflows.phonopy import VaspAutoPhononWorkChain"
   ]
  },
  {
   "cell_type": "code",
   "execution_count": 4,
   "metadata": {},
   "outputs": [],
   "source": [
    "from aiida.orm import StructureData"
   ]
  },
  {
   "cell_type": "raw",
   "metadata": {},
   "source": [
    "nacl = StructureData(pymatgen=Structure.from_file(\"POSCAR.nacl\"))"
   ]
  },
  {
   "cell_type": "raw",
   "metadata": {},
   "source": [
    "nacl.store()"
   ]
  },
  {
   "cell_type": "code",
   "execution_count": 6,
   "metadata": {},
   "outputs": [],
   "source": [
    "nacl = load_node(\"7fac61fb-91df-49f3-b639-b3d182cf8b46\")"
   ]
  },
  {
   "cell_type": "code",
   "execution_count": 7,
   "metadata": {},
   "outputs": [],
   "source": [
    "builder = VaspAutoPhononWorkChain.get_builder()"
   ]
  },
  {
   "cell_type": "code",
   "execution_count": 45,
   "metadata": {},
   "outputs": [
    {
     "name": "stdout",
     "output_type": "stream",
     "text": []
    },
    {
     "name": "stdout",
     "output_type": "stream",
     "text": [
      "\u001b[31m\u001b[1mDescription:\n",
      "\u001b[0m\n",
      "\tVaspAutoPhononWorkChain\n",
      "\t\n",
      "\tA workchain to perform automated relaxation followed by finite displacement\n",
      "\tsingle point calculations and finally use phonopy to obtain the band structure\n",
      "\tand density of states.\n",
      "\n",
      "\u001b[31m\u001b[1mInputs:\u001b[0m\n",
      "\u001b[1m           phonon_settings:  required  Dict           Settings for the underlying phonopy calculations\u001b[0m\n",
      "\u001b[1m               singlepoint:  required                 Additional inputs for the singlepoint calculations.\u001b[0m\n",
      "\u001b[1m                 structure:  required  StructureData  Structure of which the phonons should calculated\u001b[0m\n",
      "                  metadata:  optional                 \u001b[0m\n",
      "                       nac:  optional                 Inputs for the DFPT NAC calculation.\u001b[0m\n",
      "                   options:  optional  Dict           Options for the remote phonopy calculation\u001b[0m\n",
      "               phonon_code:  optional  Code           Code for the phonopy for remote calculations\u001b[0m\n",
      "                     relax:  optional                 Inputs for the relaxation to be performed.\u001b[0m\n",
      "            remote_phonopy:  optional                 Run phonopy as a remote code.\u001b[0m\n",
      "  subtract_residual_forces:  optional  Bool           \u001b[0m\n",
      "        symmetry_tolerance:  optional  Float          \u001b[0m\n",
      "\u001b[31m\u001b[1mOutputs:\u001b[0m\n",
      "\u001b[1m       phonon_setting_info:  required  Dict           \u001b[0m\n",
      "            band_structure:  optional  BandsData      \u001b[0m\n",
      "                       dos:  optional  XyData         \u001b[0m\n",
      "           force_constants:  optional  ArrayData      \u001b[0m\n",
      "                force_sets:  optional  ArrayData      \u001b[0m\n",
      "                nac_params:  optional  ArrayData      \u001b[0m\n",
      "                      pdos:  optional  XyData         \u001b[0m\n",
      "                 primitive:  optional  StructureData  \u001b[0m\n",
      "         relaxed_structure:  optional  StructureData  The output structure of the high precision relaxation, used for phonon calc ...\u001b[0m\n",
      "                 supercell:  optional  StructureData  \u001b[0m\n",
      "        thermal_properties:  optional  XyData         \u001b[0m\n",
      "\u001b[31m\u001b[1mExit codes:\u001b[0m\n",
      "                         1:  The process has failed with an unspecified error.\u001b[0m\n",
      "                         2:  The process failed with legacy failure mode.\u001b[0m\n",
      "                        10:  The process returned an invalid output.\u001b[0m\n",
      "                        11:  The process did not register a required output.\u001b[0m\n",
      "                       501:  Initial relaxation has failed!\u001b[0m\n"
     ]
    }
   ],
   "source": [
    "!verdi plugin list aiida.workflows vaspu.phonopy"
   ]
  },
  {
   "cell_type": "markdown",
   "metadata": {},
   "source": [
    "## Prepare the inputs"
   ]
  },
  {
   "cell_type": "code",
   "execution_count": 19,
   "metadata": {},
   "outputs": [],
   "source": [
    "inputset = VASPInputSet(\"UCLRelaxSet\", nacl, overrides={'encut': 600, 'addgrid': True, 'ediff': 1e-7, 'lorbit': None, 'lvhar': None, \"ncore\":8, 'ispin': 1,\n",
    "                                                        'ldauu_mapping': {'Ti': ['d', 0.0]}, 'magmom': None})\n",
    "\n",
    "builder.structure = nacl\n",
    "builder.relax.vasp.parameters = Dict(dict={'vasp': inputset.get_input_dict()})\n",
    "builder.relax.vasp.potential_family = Str('PBE.54')\n",
    "builder.relax.vasp.potential_mapping = Dict(dict=inputset.get_pp_mapping())\n",
    "builder.relax.vasp.options = Dict(dict={\n",
    "    'resources': {'num_machines': 1, 'tot_num_mpiprocs': 16}\n",
    "})\n",
    "builder.relax.vasp.kpoints_spacing = Float(0.05)\n",
    "ropts = RelaxOptions()\n",
    "ropts.force_cutoff = 1e-3\n",
    "builder.relax.relax_settings = ropts.to_aiida_dict()\n",
    "builder.relax.vasp.code = Code.get_from_string(\"vasp-5.4.4-std@melon-n\")"
   ]
  },
  {
   "cell_type": "code",
   "execution_count": 20,
   "metadata": {},
   "outputs": [],
   "source": [
    "sp = builder.singlepoint"
   ]
  },
  {
   "cell_type": "code",
   "execution_count": 21,
   "metadata": {},
   "outputs": [],
   "source": [
    "spinputset = VASPInputSet(\"UCLRelaxSet\", StructureData(ase=nacl.get_ase().repeat((2,2,2))), \n",
    "                          overrides={'encut': 600, 'addgrid': True, 'ediff': 1e-7, 'lorbit': None, 'lvhar': None,\n",
    "                                     'ncore': 8, 'ispin':1, \n",
    "                                     'ldauu_mapping': {'Ti': ['d', 0.0]}, 'magmom': None})\n",
    "\n",
    "sp.parameters = Dict(dict={'vasp': spinputset.get_input_dict()})\n",
    "sp.potential_family = Str('PBE.54')\n",
    "sp.potential_mapping = Dict(dict=spinputset.get_pp_mapping())\n",
    "sp.options = Dict(dict={\n",
    "    'resources': {'num_machines': 1, 'tot_num_mpiprocs': 16}})\n",
    "sp.kpoints_spacing = Float(0.05)\n",
    "\n",
    "sp.code = Code.get_from_string(\"vasp-5.4.4-std@melon-n\")\n"
   ]
  },
  {
   "cell_type": "code",
   "execution_count": 22,
   "metadata": {},
   "outputs": [],
   "source": [
    "nac = builder.nac"
   ]
  },
  {
   "cell_type": "code",
   "execution_count": 27,
   "metadata": {},
   "outputs": [],
   "source": [
    "nacinputset = VASPInputSet(\"UCLRelaxSet\", nacl, \n",
    "                          overrides={'encut': 600, 'addgrid': True, 'ediff': 1e-7, 'lorbit': None, 'lvhar': None,\n",
    "                                     'ncore': None, 'ispin':1, 'lepsilon': True, \n",
    "                                     'ldauu_mapping': {'Ti': ['d', 0.0]}, 'magmom': None})\n",
    "nac.parameters = Dict(dict={'vasp': nacinputset.get_input_dict()})\n",
    "nac.potential_family = Str('PBE.54')\n",
    "nac.potential_mapping = Dict(dict=nacinputset.get_pp_mapping())\n",
    "nac.options = Dict(dict={\n",
    "    'resources': {'num_machines': 1, 'tot_num_mpiprocs': 16}})\n",
    "nac.kpoints_spacing = Float(0.05)\n",
    "nac.code = Code.get_from_string(\"vasp-5.4.4-std@melon-n\")\n"
   ]
  },
  {
   "cell_type": "code",
   "execution_count": 28,
   "metadata": {},
   "outputs": [],
   "source": [
    "builder.phonon_settings = Dict(dict={\n",
    "    'supercell_matrix': [2, 2, 2],\n",
    "    'mesh': 10,\n",
    "})"
   ]
  },
  {
   "cell_type": "code",
   "execution_count": 29,
   "metadata": {},
   "outputs": [],
   "source": [
    "builder.metadata.label = 'NaCl Phonon'"
   ]
  },
  {
   "cell_type": "code",
   "execution_count": 30,
   "metadata": {},
   "outputs": [],
   "source": [
    "from aiida.engine import submit"
   ]
  },
  {
   "cell_type": "code",
   "execution_count": 31,
   "metadata": {},
   "outputs": [
    {
     "data": {
      "text/plain": [
       "<WorkChainNode: uuid: eb1c4eee-86ee-4321-a0e0-0f8d6e7446ea (pk: 34176) (aiida_user_addons.vworkflows.phonopy.VaspAutoPhononWorkChain)>"
      ]
     },
     "execution_count": 31,
     "metadata": {},
     "output_type": "execute_result"
    }
   ],
   "source": [
    "submit(builder)"
   ]
  },
  {
   "cell_type": "markdown",
   "metadata": {},
   "source": [
    "## Analysis"
   ]
  },
  {
   "cell_type": "code",
   "execution_count": 5,
   "metadata": {},
   "outputs": [],
   "source": [
    "work = load_node(\"eb1c4eee\")"
   ]
  },
  {
   "cell_type": "markdown",
   "metadata": {},
   "source": [
    "Quick visualisation for the band structure"
   ]
  },
  {
   "cell_type": "code",
   "execution_count": 6,
   "metadata": {},
   "outputs": [
    {
     "data": {
      "image/png": "[encoded data removed]",
      "text/plain": [
       "<Figure size 432x288 with 1 Axes>"
      ]
     },
     "metadata": {
      "needs_background": "light"
     },
     "output_type": "display_data"
    }
   ],
   "source": [
    "work.outputs.band_structure.show_mpl()"
   ]
  },
  {
   "cell_type": "markdown",
   "metadata": {},
   "source": [
    "Plot the total density of states"
   ]
  },
  {
   "cell_type": "code",
   "execution_count": 10,
   "metadata": {},
   "outputs": [],
   "source": [
    "import matplotlib.pyplot as plt"
   ]
  },
  {
   "cell_type": "code",
   "execution_count": 35,
   "metadata": {},
   "outputs": [
    {
     "data": {
      "text/plain": [
       "Text(0, 0.5, 'Total DOS (1/THz)')"
      ]
     },
     "execution_count": 35,
     "metadata": {},
     "output_type": "execute_result"
    },
    {
     "data": {
      "image/png": "[encoded data removed]",
      "text/plain": [
       "<Figure size 432x288 with 1 Axes>"
      ]
     },
     "metadata": {
      "needs_background": "light"
     },
     "output_type": "display_data"
    }
   ],
   "source": [
    "dos = work.outputs.dos\n",
    "xlabel, x, xunit = dos.get_x()\n",
    "ylabel, y, yunit = dos.get_y()[0]\n",
    "plt.plot(x, y)\n",
    "plt.xlabel(xlabel + f' ({xunit})')\n",
    "plt.ylabel(ylabel + f' ({yunit})')"
   ]
  },
  {
   "cell_type": "markdown",
   "metadata": {},
   "source": [
    "The *force constants* and *force sets* arrays can also be accessed - one can use them to redo phonon calculations with different setting using the phonopy Python API  "
   ]
  },
  {
   "cell_type": "code",
   "execution_count": 22,
   "metadata": {},
   "outputs": [
    {
     "data": {
      "text/plain": [
       "(64, 64, 3, 3)"
      ]
     },
     "execution_count": 22,
     "metadata": {},
     "output_type": "execute_result"
    }
   ],
   "source": [
    "work.outputs.force_constants.get_array('force_constants').shape"
   ]
  },
  {
   "cell_type": "code",
   "execution_count": 37,
   "metadata": {},
   "outputs": [
    {
     "data": {
      "text/plain": [
       "(2, 64, 3)"
      ]
     },
     "execution_count": 37,
     "metadata": {},
     "output_type": "execute_result"
    }
   ],
   "source": [
    "work.outputs.force_sets.get_array('force_sets').shape"
   ]
  },
  {
   "cell_type": "markdown",
   "metadata": {},
   "source": [
    "## Provenance visualisation of the workflow"
   ]
  },
  {
   "cell_type": "code",
   "execution_count": 23,
   "metadata": {},
   "outputs": [],
   "source": [
    "from aiida.tools.visualization import Graph\n",
    "\n",
    "g = Graph()\n",
    "g.recurse_descendants(work)\n",
    "g.recurse_ancestors(work, depth=1)"
   ]
  },
  {
   "cell_type": "code",
   "execution_count": 46,
   "metadata": {},
   "outputs": [
    {
     "data": {
      "text/plain": [
       "'phonon.png'"
      ]
     },
     "execution_count": 46,
     "metadata": {},
     "output_type": "execute_result"
    }
   ],
   "source": [
    "g.graphviz.render('phonon', format='png')"
   ]
  },
  {
   "cell_type": "markdown",
   "metadata": {},
   "source": [
    "![Phonon Provenance](phonon.png)"
   ]
  }
 ],
 "metadata": {
  "kernelspec": {
   "display_name": "Python [conda env:aiida-1.0-dev]",
   "language": "python",
   "name": "conda-env-aiida-1.0-dev-py"
  },
  "language_info": {
   "codemirror_mode": {
    "name": "ipython",
    "version": 3
   },
   "file_extension": ".py",
   "mimetype": "text/x-python",
   "name": "python",
   "nbconvert_exporter": "python",
   "pygments_lexer": "ipython3",
   "version": "3.7.7"
  }
 },
 "nbformat": 4,
 "nbformat_minor": 4
}
