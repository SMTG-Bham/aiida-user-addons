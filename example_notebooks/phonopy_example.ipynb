{
 "cells": [
  {
   "cell_type": "markdown",
   "metadata": {},
   "source": [
    "## Run phonopy calculations"
   ]
  },
  {
   "cell_type": "code",
   "execution_count": 1,
   "metadata": {},
   "outputs": [
    {
     "data": {
      "application/json": {
       "current_state": "Loaded AiiDA DB environment - profile name: 2.0-dev."
      },
      "text/html": [
       "<p>Loaded AiiDA DB environment - profile name: 2.0-dev.</p>"
      ],
      "text/latex": [
       "Loaded AiiDA DB environment - profile name: 2.0-dev.\n"
      ],
      "text/plain": [
       "Loaded AiiDA DB environment - profile name: 2.0-dev.\n"
      ]
     },
     "execution_count": 1,
     "metadata": {},
     "output_type": "execute_result"
    }
   ],
   "source": [
    "%load_ext aiida\n",
    "%aiida"
   ]
  },
  {
   "cell_type": "code",
   "execution_count": 2,
   "metadata": {},
   "outputs": [],
   "source": [
    "from pymatgen.core import Structure"
   ]
  },
  {
   "cell_type": "code",
   "execution_count": 3,
   "metadata": {},
   "outputs": [],
   "source": [
    "from aiida_user_addons.common.inputset.vaspsets import VASPInputSet\n",
    "from aiida_user_addons.vworkflows.relax  import VaspRelaxWorkChain, RelaxOptions\n",
    "from aiida_user_addons.vworkflows.phonon_wc import VaspAutoPhononWorkChain"
   ]
  },
  {
   "cell_type": "code",
   "execution_count": 4,
   "metadata": {},
   "outputs": [],
   "source": [
    "from aiida.orm import StructureData"
   ]
  },
  {
   "cell_type": "code",
   "execution_count": 5,
   "metadata": {},
   "outputs": [],
   "source": [
    "nacl = StructureData(pymatgen=Structure.from_file(\"POSCAR.NaCl\"))"
   ]
  },
  {
   "cell_type": "code",
   "execution_count": 6,
   "metadata": {},
   "outputs": [
    {
     "data": {
      "text/plain": [
       "<StructureData: uuid: 273fe6bd-662c-4e93-9dfc-0d28cca4a528 (pk: 1115)>"
      ]
     },
     "execution_count": 6,
     "metadata": {},
     "output_type": "execute_result"
    }
   ],
   "source": [
    "nacl.store()"
   ]
  },
  {
   "cell_type": "code",
   "execution_count": 38,
   "metadata": {},
   "outputs": [],
   "source": [
    "builder = VaspAutoPhononWorkChain.get_builder()"
   ]
  },
  {
   "cell_type": "code",
   "execution_count": 8,
   "metadata": {},
   "outputs": [
    {
     "name": "stdout",
     "output_type": "stream",
     "text": []
    },
    {
     "name": "stdout",
     "output_type": "stream",
     "text": [
      "\u001b[34m\u001b[1mDescription:\n",
      "\u001b[0m\n",
      "\u001b[22m         VaspAutoPhononWorkChain      A workchain to perform automated relaxation followed by finite\n",
      "    displacement     single point calculations and finally use phonopy to obtain the band structure\n",
      "    and density of states.\u001b[0m\n",
      "\u001b[34m\u001b[1m\n",
      "Inputs:\u001b[0m\n",
      "\u001b[22m         \u001b[31m\u001b[1mphonon_settings\u001b[0m  Dict            Settings for the underlying phonopy calculations\n",
      "             \u001b[31m\u001b[1msinglepoint\u001b[0m  Data            Additional inputs for the singlepoint calculations.\n",
      "               \u001b[31m\u001b[1mstructure\u001b[0m  StructureData   Structure of which the phonons should calculated\n",
      "                \u001b[37m\u001b[22mmetadata\u001b[0m\n",
      "                     \u001b[37m\u001b[22mnac\u001b[0m  Data            Inputs for the DFPT NAC calculation.\n",
      "                 \u001b[37m\u001b[22moptions\u001b[0m  Dict, NoneType  Options for the remote phonopy calculation\n",
      "             \u001b[37m\u001b[22mphonon_code\u001b[0m  Code, NoneType  Code for the phonopy for remote calculations\n",
      "                   \u001b[37m\u001b[22mrelax\u001b[0m  Data            Inputs for the relaxation to be performed.\n",
      "          \u001b[37m\u001b[22mremote_phonopy\u001b[0m                  Run phonopy as a remote code.\n",
      "    \u001b[37m\u001b[22mreuse_supercell_calc\u001b[0m  Str, NoneType   Perform calculation for the perfect supercell and use its CHGCAR to\n",
      "                                          bootstrap displacement calculations.Choose from: <retrieve> or <restart>\n",
      "\u001b[37m\u001b[22msubtract_residual_forces\u001b[0m  Bool\n",
      "      \u001b[37m\u001b[22msymmetry_tolerance\u001b[0m  Float\u001b[0m\n",
      "\u001b[22m\u001b[3m\n",
      "Required inputs are displayed in bold red.\n",
      "\u001b[0m\u001b[0m\n",
      "\u001b[34m\u001b[1mOutputs:\u001b[0m\n",
      "\u001b[22m\u001b[31m\u001b[1mphonon_setting_info\u001b[0m  Dict\n",
      "     \u001b[37m\u001b[22mband_structure\u001b[0m  BandsData\n",
      "                \u001b[37m\u001b[22mdos\u001b[0m  XyData\n",
      "    \u001b[37m\u001b[22mforce_constants\u001b[0m  ArrayData\n",
      "         \u001b[37m\u001b[22mforce_sets\u001b[0m  ArrayData\n",
      "         \u001b[37m\u001b[22mnac_params\u001b[0m  ArrayData\n",
      "               \u001b[37m\u001b[22mpdos\u001b[0m  XyData\n",
      "          \u001b[37m\u001b[22mprimitive\u001b[0m  StructureData\n",
      "  \u001b[37m\u001b[22mrelaxed_structure\u001b[0m  StructureData  The output structure of the high precision relaxation, used for phonon\n",
      "                                    calculations.\n",
      "          \u001b[37m\u001b[22msupercell\u001b[0m  StructureData\n",
      " \u001b[37m\u001b[22mthermal_properties\u001b[0m  XyData\u001b[0m\n",
      "\u001b[22m\u001b[3m\n",
      "Required outputs are displayed in bold red.\n",
      "\u001b[0m\u001b[0m\n",
      "\u001b[34m\u001b[1mExit codes:\n",
      "\u001b[0m\n",
      "\u001b[22m  0  The process finished successfully.\n",
      "  \u001b[31m\u001b[1m1\u001b[0m  The process has failed with an unspecified error.\n",
      "  \u001b[31m\u001b[1m2\u001b[0m  The process failed with legacy failure mode.\n",
      " \u001b[31m\u001b[1m10\u001b[0m  The process returned an invalid output.\n",
      " \u001b[31m\u001b[1m11\u001b[0m  The process did not register a required output.\n",
      "501  Initial relaxation has failed!\u001b[0m\n",
      "\u001b[22m\u001b[3m\n",
      "Exit codes that invalidate the cache are marked in bold red.\n",
      "\u001b[0m\u001b[0m\n"
     ]
    }
   ],
   "source": [
    "!verdi plugin list aiida.workflows vaspu.phonopy"
   ]
  },
  {
   "cell_type": "markdown",
   "metadata": {},
   "source": [
    "## Prepare the inputs"
   ]
  },
  {
   "cell_type": "code",
   "execution_count": 39,
   "metadata": {},
   "outputs": [],
   "source": [
    "from aiida_user_addons.common.builder_updater import VaspAutoPhononUpdater, VaspRelaxUpdater, VaspBuilderUpdater"
   ]
  },
  {
   "cell_type": "markdown",
   "metadata": {},
   "source": [
    "Setup phonon finite-displacement inputs"
   ]
  },
  {
   "cell_type": "code",
   "execution_count": 40,
   "metadata": {},
   "outputs": [],
   "source": [
    "upd = VaspAutoPhononUpdater(builder)"
   ]
  },
  {
   "cell_type": "code",
   "execution_count": 41,
   "metadata": {},
   "outputs": [
    {
     "name": "stdout",
     "output_type": "stream",
     "text": [
      "Using input set file at: /home/bonan/aiida_envs/aiida-2.0-dev/aiida-user-addons/aiida_user_addons/common/inputset/UCLRelaxSet.yaml\n"
     ]
    },
    {
     "name": "stderr",
     "output_type": "stream",
     "text": [
      "/home/bonan/aiida_envs/aiida-2.0-dev/aiida-user-addons/aiida_user_addons/common/builder_updater.py:267: UserWarning: Using default options template - adjustment needed for the target computer\n",
      "  warn(\n"
     ]
    },
    {
     "data": {
      "text/plain": [
       "<aiida_user_addons.common.builder_updater.VaspAutoPhononUpdater at 0x7fe04cc88be0>"
      ]
     },
     "execution_count": 41,
     "metadata": {},
     "output_type": "execute_result"
    }
   ],
   "source": [
    "upd.use_inputset(nacl, \"UCLRelaxSet\", overrides={'encut': 600, 'addgrid': True, 'ediff': 1e-7, 'lorbit': None, 'lvhar': None,\n",
    "                                     'ncore': 8, 'ispin':1, \n",
    "                                     'ldauu_mapping': {'Ti': ['d', 0.0]}, 'magmom': None}\n",
    "                )\n",
    "upd.set_kspacing(0.05)\n",
    "upd.set_code(\"vasp-6.2.0-vtst-std@kiwi-e\")\n",
    "upd.update_options(\n",
    "    max_wallclock_seconds=3600,\n",
    ")\n",
    "upd.update_resources(\n",
    "    num_machines=1,\n",
    "    tot_num_mpiprocs=32,\n",
    ")"
   ]
  },
  {
   "cell_type": "markdown",
   "metadata": {},
   "source": [
    "We want to perofrm an initial relaxation - so need to setup that as well!"
   ]
  },
  {
   "cell_type": "code",
   "execution_count": 42,
   "metadata": {},
   "outputs": [],
   "source": [
    "upd_relax = VaspRelaxUpdater(builder.relax, override_vasp_namespace=builder.relax.vasp, namespace_relax=builder.relax)"
   ]
  },
  {
   "cell_type": "code",
   "execution_count": 43,
   "metadata": {},
   "outputs": [
    {
     "name": "stdout",
     "output_type": "stream",
     "text": [
      "Using input set file at: /home/bonan/aiida_envs/aiida-2.0-dev/aiida-user-addons/aiida_user_addons/common/inputset/UCLRelaxSet.yaml\n"
     ]
    },
    {
     "data": {
      "text/plain": [
       "<aiida_user_addons.common.builder_updater.VaspRelaxUpdater at 0x7fe04c2911f0>"
      ]
     },
     "execution_count": 43,
     "metadata": {},
     "output_type": "execute_result"
    }
   ],
   "source": [
    "upd_relax.use_inputset(nacl, \"UCLRelaxSet\", overrides={'encut': 600, 'addgrid': True, 'ediff': 1e-7, 'lorbit': None, 'lvhar': None, \"ncore\":8, 'ispin': 1,\n",
    "                                                        'ldauu_mapping': {'Ti': ['d', 0.0]}, 'magmom': None}\n",
    "                )"
   ]
  },
  {
   "cell_type": "code",
   "execution_count": 44,
   "metadata": {},
   "outputs": [
    {
     "data": {
      "text/plain": [
       "<aiida_user_addons.common.builder_updater.VaspRelaxUpdater at 0x7fe04c2911f0>"
      ]
     },
     "execution_count": 44,
     "metadata": {},
     "output_type": "execute_result"
    }
   ],
   "source": [
    "upd_relax.update_options(max_wallclock_seconds=3600)\n",
    "upd_relax.update_resources(num_machines=1, tot_num_mpiprocs=4)\n",
    "upd_relax.set_kspacing(0.05)\n",
    "\n",
    "upd_relax.update_relax_settings(force_cutoff=1e-3)\n",
    "upd_relax.set_code(\"vasp-std@localhost\")\n",
    "\n",
    "upd_relax.update_options(\n",
    "    max_wallclock_seconds=3600,\n",
    ")\n",
    "upd_relax.update_resources(\n",
    "    num_machines=1,\n",
    "    tot_num_mpiprocs=4,\n",
    ")"
   ]
  },
  {
   "cell_type": "markdown",
   "metadata": {},
   "source": [
    "NAC calculation inputs"
   ]
  },
  {
   "cell_type": "code",
   "execution_count": 45,
   "metadata": {},
   "outputs": [
    {
     "name": "stdout",
     "output_type": "stream",
     "text": [
      "Using input set file at: /home/bonan/aiida_envs/aiida-2.0-dev/aiida-user-addons/aiida_user_addons/common/inputset/UCLRelaxSet.yaml\n"
     ]
    },
    {
     "name": "stderr",
     "output_type": "stream",
     "text": [
      "/home/bonan/aiida_envs/aiida-2.0-dev/aiida-user-addons/aiida_user_addons/common/builder_updater.py:267: UserWarning: Using default options template - adjustment needed for the target computer\n",
      "  warn(\n"
     ]
    },
    {
     "data": {
      "text/plain": [
       "<aiida_user_addons.common.builder_updater.VaspBuilderUpdater at 0x7fe04c74a460>"
      ]
     },
     "execution_count": 45,
     "metadata": {},
     "output_type": "execute_result"
    }
   ],
   "source": [
    "upd_nac = VaspBuilderUpdater(builder.nac, root_namespace=builder)\n",
    "\n",
    "upd_nac.use_inputset(nacl, \"UCLRelaxSet\", \n",
    "                          overrides={'encut': 600, 'addgrid': True, 'ediff': 1e-7, 'lorbit': None, 'lvhar': None,\n",
    "                                     'ncore': None, 'ispin':1, 'lepsilon': True, \n",
    "                                     'ldauu_mapping': {'Ti': ['d', 0.0]}, 'magmom': None})\n",
    "\n",
    "upd_nac.update_options(\n",
    "    max_wallclock_seconds=3600,\n",
    ")\n",
    "upd_nac.update_resources(\n",
    "    num_machines=1,\n",
    "    tot_num_mpiprocs=4,\n",
    ")\n",
    "upd_nac.set_code(\"vasp-6.2.0-vtst-std@kiwi-e\")\n"
   ]
  },
  {
   "cell_type": "markdown",
   "metadata": {},
   "source": [
    "Phonon specific settings for phonopy"
   ]
  },
  {
   "cell_type": "code",
   "execution_count": 46,
   "metadata": {},
   "outputs": [],
   "source": [
    "upd.builder.phonon_settings = Dict(dict={\n",
    "    'supercell_matrix': [2, 2, 2],\n",
    "    'mesh': 10,\n",
    "    'primitive_matrix': 'auto'\n",
    "})"
   ]
  },
  {
   "cell_type": "code",
   "execution_count": 47,
   "metadata": {},
   "outputs": [
    {
     "data": {
      "text/plain": [
       "<aiida_user_addons.common.builder_updater.VaspAutoPhononUpdater at 0x7fe04cc88be0>"
      ]
     },
     "execution_count": 47,
     "metadata": {},
     "output_type": "execute_result"
    }
   ],
   "source": [
    "upd.set_label('NaCl Phonon')"
   ]
  },
  {
   "cell_type": "code",
   "execution_count": 48,
   "metadata": {},
   "outputs": [],
   "source": [
    "from aiida.engine import submit"
   ]
  },
  {
   "cell_type": "code",
   "execution_count": 49,
   "metadata": {},
   "outputs": [
    {
     "data": {
      "text/plain": [
       "<InstalledCode: Remote code 'vasp-std' on localhost pk: 301, uuid: da78d318-7e7a-4f17-810a-d6a74000b9f2>"
      ]
     },
     "execution_count": 49,
     "metadata": {},
     "output_type": "execute_result"
    }
   ],
   "source": [
    "builder.relax.vasp.code"
   ]
  },
  {
   "cell_type": "code",
   "execution_count": 51,
   "metadata": {},
   "outputs": [
    {
     "data": {
      "text/plain": [
       "<WorkChainNode: uuid: 75f06ad1-9f3a-4d8b-8164-a35d7aee4d20 (pk: 1319) (aiida.workflows:vaspu.phonopy)>"
      ]
     },
     "execution_count": 51,
     "metadata": {},
     "output_type": "execute_result"
    }
   ],
   "source": [
    "submit(builder)"
   ]
  },
  {
   "cell_type": "markdown",
   "metadata": {},
   "source": [
    "## Analysis"
   ]
  },
  {
   "cell_type": "code",
   "execution_count": 52,
   "metadata": {},
   "outputs": [],
   "source": [
    "work = load_node(\"75f06ad1\")"
   ]
  },
  {
   "cell_type": "markdown",
   "metadata": {},
   "source": [
    "Quick visualisation for the band structure"
   ]
  },
  {
   "cell_type": "code",
   "execution_count": 53,
   "metadata": {},
   "outputs": [
    {
     "data": {
      "image/png": "[encoded data removed]",
      "text/plain": [
       "<Figure size 432x288 with 1 Axes>"
      ]
     },
     "metadata": {
      "needs_background": "light"
     },
     "output_type": "display_data"
    }
   ],
   "source": [
    "work.outputs.band_structure.show_mpl()"
   ]
  },
  {
   "cell_type": "markdown",
   "metadata": {},
   "source": [
    "Plot the total density of states"
   ]
  },
  {
   "cell_type": "code",
   "execution_count": 54,
   "metadata": {},
   "outputs": [],
   "source": [
    "import matplotlib.pyplot as plt"
   ]
  },
  {
   "cell_type": "code",
   "execution_count": 55,
   "metadata": {},
   "outputs": [
    {
     "data": {
      "text/plain": [
       "Text(0, 0.5, 'Total DOS (1/THz)')"
      ]
     },
     "execution_count": 55,
     "metadata": {},
     "output_type": "execute_result"
    },
    {
     "data": {
      "image/png": "[encoded data removed]",
      "text/plain": [
       "<Figure size 432x288 with 1 Axes>"
      ]
     },
     "metadata": {
      "needs_background": "light"
     },
     "output_type": "display_data"
    }
   ],
   "source": [
    "dos = work.outputs.dos\n",
    "xlabel, x, xunit = dos.get_x()\n",
    "ylabel, y, yunit = dos.get_y()[0]\n",
    "plt.plot(x, y)\n",
    "plt.xlabel(xlabel + f' ({xunit})')\n",
    "plt.ylabel(ylabel + f' ({yunit})')"
   ]
  },
  {
   "cell_type": "markdown",
   "metadata": {},
   "source": [
    "The *force constants* and *force sets* arrays can also be accessed - one can use them to redo phonon calculations with different setting using the phonopy Python API  "
   ]
  },
  {
   "cell_type": "code",
   "execution_count": 56,
   "metadata": {},
   "outputs": [
    {
     "data": {
      "text/plain": [
       "(64, 64, 3, 3)"
      ]
     },
     "execution_count": 56,
     "metadata": {},
     "output_type": "execute_result"
    }
   ],
   "source": [
    "work.outputs.force_constants.get_array('force_constants').shape"
   ]
  },
  {
   "cell_type": "code",
   "execution_count": 57,
   "metadata": {},
   "outputs": [
    {
     "data": {
      "text/plain": [
       "(2, 64, 3)"
      ]
     },
     "execution_count": 57,
     "metadata": {},
     "output_type": "execute_result"
    }
   ],
   "source": [
    "work.outputs.force_sets.get_array('force_sets').shape"
   ]
  },
  {
   "cell_type": "markdown",
   "metadata": {},
   "source": [
    "## Provenance visualisation of the workflow"
   ]
  },
  {
   "cell_type": "code",
   "execution_count": 58,
   "metadata": {},
   "outputs": [],
   "source": [
    "from aiida.tools.visualization import Graph\n",
    "\n",
    "g = Graph()\n",
    "g.recurse_descendants(work)\n",
    "g.recurse_ancestors(work, depth=1)"
   ]
  },
  {
   "cell_type": "code",
   "execution_count": 59,
   "metadata": {},
   "outputs": [
    {
     "data": {
      "text/plain": [
       "'phonon.png'"
      ]
     },
     "execution_count": 59,
     "metadata": {},
     "output_type": "execute_result"
    }
   ],
   "source": [
    "g.graphviz.render('phonon', format='png')"
   ]
  },
  {
   "cell_type": "markdown",
   "metadata": {},
   "source": [
    "![Phonon Provenance](phonon.png)"
   ]
  }
 ],
 "metadata": {
  "kernelspec": {
   "display_name": "Python [conda env:aiida-2.0-dev]",
   "language": "python",
   "name": "conda-env-aiida-2.0-dev-py"
  },
  "language_info": {
   "codemirror_mode": {
    "name": "ipython",
    "version": 3
   },
   "file_extension": ".py",
   "mimetype": "text/x-python",
   "name": "python",
   "nbconvert_exporter": "python",
   "pygments_lexer": "ipython3",
   "version": "3.8.10"
  }
 },
 "nbformat": 4,
 "nbformat_minor": 4
}
