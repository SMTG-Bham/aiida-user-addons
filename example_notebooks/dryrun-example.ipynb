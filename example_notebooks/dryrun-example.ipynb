{
 "cells": [
  {
   "cell_type": "code",
   "execution_count": 1,
   "metadata": {},
   "outputs": [
    {
     "data": {
      "application/json": {
       "current_state": "Loaded AiiDA DB environment - profile name: demo."
      },
      "text/html": [
       "<p>Loaded AiiDA DB environment - profile name: demo.</p>"
      ],
      "text/latex": [
       "Loaded AiiDA DB environment - profile name: demo.\n"
      ],
      "text/plain": [
       "Loaded AiiDA DB environment - profile name: demo.\n"
      ]
     },
     "execution_count": 1,
     "metadata": {},
     "output_type": "execute_result"
    }
   ],
   "source": [
    "%load_ext aiida\n",
    "%aiida "
   ]
  },
  {
   "cell_type": "code",
   "execution_count": 2,
   "metadata": {},
   "outputs": [],
   "source": [
    "from pymatgen import get_structure_from_mp\n",
    "import aiida.orm as orm\n",
    "from aiida_user_addons.common.inputset.vaspsets import VASPInputSet\n",
    "from aiida_user_addons.tools.dryrun import dryrun_vasp, get_jobscheme\n",
    "from aiida_user_addons.vworkflows.relax import VaspRelaxWorkChain, RelaxOptions"
   ]
  },
  {
   "cell_type": "markdown",
   "metadata": {},
   "source": [
    "Get the SrTiO3 structure from pymatgen"
   ]
  },
  {
   "cell_type": "code",
   "execution_count": 3,
   "metadata": {},
   "outputs": [],
   "source": [
    "sto = StructureData(pymatgen=get_structure_from_mp(\"mp-5229\"))"
   ]
  },
  {
   "cell_type": "markdown",
   "metadata": {},
   "source": [
    "Setup the input for a `VaspCalculation`. \n",
    "\n",
    "Note: normally it is more common to use `VaspWorkChain` or `VaspRelaxWorkChain` for running the calculations."
   ]
  },
  {
   "cell_type": "code",
   "execution_count": 4,
   "metadata": {},
   "outputs": [],
   "source": [
    "inputset = VASPInputSet(\"UCLRelaxSet\", sto, overrides={'encut': 300})\n",
    "potential = DataFactory('vasp.potcar').get_potcars_from_structure(\n",
    "                structure=sto,\n",
    "                family_name='PBE.54',\n",
    "                mapping=inputset.get_pp_mapping())\n",
    "\n",
    "\n",
    "builder = CalculationFactory('vasp.vasp').get_builder()\n",
    "builder.structure = sto\n",
    "builder.parameters = inputset.get_input_dict(raw_python=False)\n",
    "builder.potential = potential\n",
    "builder.metadata.options = {\n",
    "    'resources': {'num_machines': 1, 'tot_num_mpiprocs': 4}\n",
    "}\n",
    "builder.kpoints = inputset.get_kpoints(0.05)\n",
    "builder.code = orm.load_code(\"vasp@localhost\")\n"
   ]
  },
  {
   "cell_type": "code",
   "execution_count": 5,
   "metadata": {},
   "outputs": [],
   "source": [
    "dryrun_results = dryrun_vasp(builder, '/home/bonan/appdir/VASP/vasp.5.4.4/bin/vasp_std')"
   ]
  },
  {
   "cell_type": "code",
   "execution_count": 6,
   "metadata": {},
   "outputs": [
    {
     "data": {
      "text/plain": [
       "{'POTCARS': ['PAW_PBE Sr_sv 07Sep2000',\n",
       "  'PAW_PBE Ti_pv 07Sep2000',\n",
       "  'PAW_PBE O 08Apr2002'],\n",
       " 'num_kpoints': 20,\n",
       " 'num_bands': 26,\n",
       " 'num_plane_waves': 13824,\n",
       " 'NGX': 24,\n",
       " 'NGY': 24,\n",
       " 'NGZ': 24,\n",
       " 'kpoints_and_weights': [[0.0, 0.0, 0.0, 0.005],\n",
       "  [0.16666667, 0.0, 0.0, 0.028],\n",
       "  [0.33333333, 0.0, 0.0, 0.028],\n",
       "  [0.5, 0.0, 0.0, 0.014],\n",
       "  [0.16666667, 0.16666667, 0.0, 0.056],\n",
       "  [0.33333333, 0.16666667, 0.0, 0.111],\n",
       "  [0.5, 0.16666667, 0.0, 0.056],\n",
       "  [0.33333333, 0.33333333, 0.0, 0.056],\n",
       "  [0.5, 0.33333333, 0.0, 0.056],\n",
       "  [0.5, 0.5, 0.0, 0.014],\n",
       "  [0.16666667, 0.16666667, 0.16666667, 0.037],\n",
       "  [0.33333333, 0.16666667, 0.16666667, 0.111],\n",
       "  [0.5, 0.16666667, 0.16666667, 0.056],\n",
       "  [0.33333333, 0.33333333, 0.16666667, 0.111],\n",
       "  [0.5, 0.33333333, 0.16666667, 0.111],\n",
       "  [0.5, 0.5, 0.16666667, 0.028],\n",
       "  [0.33333333, 0.33333333, 0.33333333, 0.037],\n",
       "  [0.5, 0.33333333, 0.33333333, 0.056],\n",
       "  [0.5, 0.5, 0.33333333, 0.028],\n",
       "  [0.5, 0.5, 0.5, 0.005]],\n",
       " 'plane_waves_min_max': [739.0, 708.0],\n",
       " 'max_ram_rank0': 64998.0,\n",
       " 'mem_base': 30000.0,\n",
       " 'mem_nonl-proj': 6444.0,\n",
       " 'mem_fftplans': 3916.0,\n",
       " 'mem_grid': 11188.0,\n",
       " 'mem_one-center': 155.0,\n",
       " 'mem_wavefun': 13295.0}"
      ]
     },
     "execution_count": 6,
     "metadata": {},
     "output_type": "execute_result"
    }
   ],
   "source": [
    "dryrun_results"
   ]
  },
  {
   "cell_type": "code",
   "execution_count": 9,
   "metadata": {},
   "outputs": [
    {
     "data": {
      "text/plain": [
       "<aiida_user_addons.tools.optparallel.JobScheme at 0x7f503a09f210>"
      ]
     },
     "execution_count": 9,
     "metadata": {},
     "output_type": "execute_result"
    }
   ],
   "source": [
    "get_kpar_ncore(builder, 24, '/home/bonan/appdir/VASP/vasp.5.4.4/bin/vasp_std', cpus_per_node=24)"
   ]
  },
  {
   "cell_type": "code",
   "execution_count": 6,
   "metadata": {},
   "outputs": [
    {
     "name": "stderr",
     "output_type": "stream",
     "text": [
      "09/27/2020 05:02:45 PM <3920> aiida.orm.nodes.process.calculation.calcjob.CalcJobNode: [INFO] Broadcasting state change of 277995566052394404462360341832778824635: state_changed.created.running\n",
      "09/27/2020 05:02:45 PM <3920> aiida.orm.nodes.process.calculation.calcjob.CalcJobNode: [INFO] Broadcasting state change of 277995566052394404462360341832778824635: state_changed.running.finished\n"
     ]
    },
    {
     "data": {
      "text/plain": [
       "(4, 2)"
      ]
     },
     "execution_count": 6,
     "metadata": {},
     "output_type": "execute_result"
    }
   ],
   "source": [
    "get_optimum_parallelisation(builder, 24, '/home/bonan/appdir/VASP/vasp.5.4.4/bin/vasp_std', cpus_per_node=24, ncore_strategy='balance')"
   ]
  },
  {
   "cell_type": "markdown",
   "metadata": {},
   "source": [
    "Here the number of kpoints and number of bands have been obtained, we can use them to work out the best `KPAR` value.  \n",
    "The number of bands and plane wave can also be taken account to check if the calculation will be over-parallelised."
   ]
  }
 ],
 "metadata": {
  "kernelspec": {
   "display_name": "Python [conda env:aiida-2.0-dev]",
   "language": "python",
   "name": "conda-env-aiida-2.0-dev-py"
  },
  "language_info": {
   "codemirror_mode": {
    "name": "ipython",
    "version": 3
   },
   "file_extension": ".py",
   "mimetype": "text/x-python",
   "name": "python",
   "nbconvert_exporter": "python",
   "pygments_lexer": "ipython3",
   "version": "3.8.10"
  }
 },
 "nbformat": 4,
 "nbformat_minor": 4
}
