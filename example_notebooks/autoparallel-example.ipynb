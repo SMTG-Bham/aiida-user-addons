{
 "cells": [
  {
   "cell_type": "code",
   "execution_count": 1,
   "metadata": {},
   "outputs": [
    {
     "data": {
      "application/json": {
       "current_state": "Loaded AiiDA DB environment - profile name: demo."
      },
      "text/html": [
       "<p>Loaded AiiDA DB environment - profile name: demo.</p>"
      ],
      "text/latex": [
       "Loaded AiiDA DB environment - profile name: demo.\n"
      ],
      "text/plain": [
       "Loaded AiiDA DB environment - profile name: demo.\n"
      ]
     },
     "execution_count": 1,
     "metadata": {},
     "output_type": "execute_result"
    }
   ],
   "source": [
    "%aiida demo"
   ]
  },
  {
   "cell_type": "code",
   "execution_count": 2,
   "metadata": {},
   "outputs": [],
   "source": [
    "from pymatgen import get_structure_from_mp\n",
    "from aiida.orm import StructureData\n",
    "from aiida_user_addons.common.inputset.vaspsets import VASPInputSet\n",
    "from aiida_user_addons.tools.dryrun import dryrun_vasp, get_jobscheme\n",
    "from aiida_user_addons.vworkflows.relax import VaspRelaxWorkChain, RelaxOptions"
   ]
  },
  {
   "cell_type": "markdown",
   "metadata": {},
   "source": [
    "Get the SrTiO3 structure from pymatgen"
   ]
  },
  {
   "cell_type": "code",
   "execution_count": 3,
   "metadata": {},
   "outputs": [],
   "source": [
    "sto = StructureData(pymatgen=get_structure_from_mp(\"mp-5229\"))"
   ]
  },
  {
   "cell_type": "markdown",
   "metadata": {},
   "source": [
    "Setup the input for a `VaspCalculation`. \n",
    "\n",
    "Note: normally it is more common to use `VaspWorkChain` or `VaspRelaxWorkChain` for running the calculations."
   ]
  },
  {
   "cell_type": "code",
   "execution_count": 4,
   "metadata": {},
   "outputs": [],
   "source": [
    "inputset = VASPInputSet(\"UCLRelaxSet\", sto, overrides={'encut': 300})\n",
    "potential = DataFactory('vasp.potcar').get_potcars_from_structure(\n",
    "                structure=sto,\n",
    "                family_name='PBE.54',\n",
    "                mapping=inputset.get_pp_mapping())\n",
    "\n",
    "\n",
    "builder = WorkflowFactory('vaspu.vasp').get_builder()\n",
    "builder.structure = sto\n",
    "builder.parameters = inputset.get_input_dict(raw_python=False)\n",
    "builder.potential_family = Str('PBE.54')\n",
    "builder.potential_mapping = Dict(dict=inputset.get_pp_mapping())\n",
    "builder.options = Dict(dict={\n",
    "    'resources': {'num_machines': 1, 'tot_num_mpiprocs': 4}\n",
    "})\n",
    "builder.kpoints = inputset.get_kpoints(0.05)\n",
    "builder.code = Code.get_from_string(\"vasp@localhost\")\n",
    "builder.auto_parallel = Dict(dict={'vasp_exe': 'vasp_std', 'cpus_per_node': 4})"
   ]
  },
  {
   "cell_type": "code",
   "execution_count": 5,
   "metadata": {},
   "outputs": [],
   "source": [
    "from aiida.engine import run, submit"
   ]
  },
  {
   "cell_type": "code",
   "execution_count": 6,
   "metadata": {},
   "outputs": [
    {
     "name": "stderr",
     "output_type": "stream",
     "text": [
      "09/27/2020 06:57:59 PM <12562> aiida.orm.nodes.process.workflow.workchain.WorkChainNode: [INFO] Broadcasting state change of 34525: state_changed.created.running\n",
      "09/27/2020 06:57:59 PM <12562> aiida.orm.nodes.process.workflow.workchain.WorkChainNode: [INFO] Broadcasting state change of 34525: state_changed.running.running\n",
      "09/27/2020 06:57:59 PM <12562> aiida.orm.nodes.process.workflow.workchain.WorkChainNode: [INFO] Broadcasting state change of 34525: state_changed.running.running\n",
      "09/27/2020 06:57:59 PM <12562> aiida.orm.nodes.process.workflow.workchain.WorkChainNode: [INFO] Broadcasting state change of 34525: state_changed.running.running\n",
      "09/27/2020 06:58:00 PM <12562> aiida.orm.nodes.process.workflow.workchain.WorkChainNode: [REPORT] [34525|VaspWorkChain|perform_autoparallel]: Performing local dryrun for auto-parallelisation\n",
      "09/27/2020 06:58:00 PM <12562> aiida.execmanager: [WARNING] CalcJobNode<34527> already has a `remote_folder` output: skipping upload\n",
      "09/27/2020 06:58:01 PM <12562> aiida.orm.nodes.process.workflow.workchain.WorkChainNode: [REPORT] [34525|VaspWorkChain|perform_autoparallel]: Found optimum KPAR=4, NCORE=1\n",
      "09/27/2020 06:58:01 PM <12562> aiida.orm.nodes.process.workflow.workchain.WorkChainNode: [INFO] Broadcasting state change of 34525: state_changed.running.running\n",
      "09/27/2020 06:58:01 PM <12562> aiida.orm.nodes.process.workflow.workchain.WorkChainNode: [INFO] Broadcasting state change of 34525: state_changed.running.running\n",
      "09/27/2020 06:58:02 PM <12562> aiida.orm.nodes.process.workflow.workchain.WorkChainNode: [REPORT] [34525|VaspWorkChain|run_calculation]: launching VaspCalculation<34533> iteration #1\n",
      "09/27/2020 06:58:02 PM <12562> aiida.engine.runners: [INFO] adding subscriber for broadcasts of 34533\n",
      "09/27/2020 06:58:02 PM <12562> aiida.orm.nodes.process.workflow.workchain.WorkChainNode: [INFO] Broadcasting state change of 34525: state_changed.running.waiting\n",
      "09/27/2020 06:58:02 PM <12562> aiida.orm.nodes.process.calculation.calcjob.CalcJobNode: [INFO] Broadcasting state change of 34533: state_changed.created.running\n",
      "09/27/2020 06:58:02 PM <12562> aiida.orm.nodes.process.calculation.calcjob.CalcJobNode: [INFO] Broadcasting state change of 34533: state_changed.running.finished\n",
      "09/27/2020 06:58:02 PM <12562> aiida.orm.nodes.process.workflow.workchain.WorkChainNode: [INFO] received callback that awaitable 34533 has terminated\n",
      "09/27/2020 06:58:02 PM <12562> aiida.orm.nodes.process.workflow.workchain.WorkChainNode: [INFO] Broadcasting state change of 34525: state_changed.waiting.running\n",
      "09/27/2020 06:58:02 PM <12562> aiida.orm.nodes.process.workflow.workchain.WorkChainNode: [REPORT] [34525|VaspWorkChain|_handle_succesfull]: VaspCalculation<34533> completed successfully\n",
      "09/27/2020 06:58:02 PM <12562> aiida.orm.nodes.process.workflow.workchain.WorkChainNode: [INFO] Broadcasting state change of 34525: state_changed.running.running\n",
      "09/27/2020 06:58:02 PM <12562> aiida.orm.nodes.process.workflow.workchain.WorkChainNode: [INFO] Broadcasting state change of 34525: state_changed.running.running\n",
      "09/27/2020 06:58:02 PM <12562> aiida.orm.nodes.process.workflow.workchain.WorkChainNode: [REPORT] [34525|VaspWorkChain|results]: VaspWorkChain<34525> completed after 1 iterations\n",
      "09/27/2020 06:58:02 PM <12562> aiida.orm.nodes.process.workflow.workchain.WorkChainNode: [INFO] Broadcasting state change of 34525: state_changed.running.running\n",
      "09/27/2020 06:58:03 PM <12562> aiida.orm.nodes.process.workflow.workchain.WorkChainNode: [INFO] Broadcasting state change of 34525: state_changed.running.finished\n",
      "09/27/2020 06:58:03 PM <12562> aiida.orm.nodes.process.workflow.workchain.WorkChainNode: [REPORT] [34525|VaspWorkChain|on_terminated]: cleaned remote folders of calculations: 34533\n"
     ]
    },
    {
     "data": {
      "text/plain": [
       "{'parallel_settings': <Dict: uuid: 2b677791-7acc-4ecd-873a-a2b476a9eb6a (pk: 34531)>,\n",
       " 'misc': <Dict: uuid: 93c443f7-ceca-4ab1-bd52-9646e06927c6 (pk: 34534)>,\n",
       " 'remote_folder': <RemoteData: uuid: 88e4817f-4e1a-4f20-ba93-b7092e4067a5 (pk: 34536)>,\n",
       " 'retrieved': <FolderData: uuid: 7f1c1495-373c-4630-ab70-5b189fb58f46 (pk: 34535)>}"
      ]
     },
     "execution_count": 6,
     "metadata": {},
     "output_type": "execute_result"
    }
   ],
   "source": [
    "run(builder)"
   ]
  },
  {
   "cell_type": "markdown",
   "metadata": {},
   "source": [
    "## Access the results"
   ]
  },
  {
   "cell_type": "code",
   "execution_count": 10,
   "metadata": {},
   "outputs": [],
   "source": [
    "work = load_node(\"4c7d3bd4-ede5-44b5-8119-c4be5e98f4a5\")"
   ]
  },
  {
   "cell_type": "code",
   "execution_count": 11,
   "metadata": {},
   "outputs": [
    {
     "data": {
      "text/plain": [
       "{'kpar': 4, 'ncore': 1}"
      ]
     },
     "execution_count": 11,
     "metadata": {},
     "output_type": "execute_result"
    }
   ],
   "source": [
    "work.outputs.parallel_settings.get_dict()"
   ]
  },
  {
   "cell_type": "code",
   "execution_count": 12,
   "metadata": {},
   "outputs": [
    {
     "data": {
      "text/plain": [
       "{'symmetries': {'point_group': {'static': [None], 'dynamic': [None]},\n",
       "  'primitive_translations': [1],\n",
       "  'num_space_group_operations': {'static': [48], 'dynamic': [48]}},\n",
       " 'stdout_error': [{'message': 'WARNING: Linux kernel CMA support was requested via the',\n",
       "   'critical': False,\n",
       "   'shortname': 'general'}],\n",
       " 'magnetization': [-0.0001519],\n",
       " 'maximum_force': 0.0,\n",
       " 'maximum_stress': 390.40519455,\n",
       " 'total_energies': {'energy_no_entropy': -39.29650258}}"
      ]
     },
     "execution_count": 12,
     "metadata": {},
     "output_type": "execute_result"
    }
   ],
   "source": [
    "work.outputs.misc.get_dict()"
   ]
  }
 ],
 "metadata": {
  "kernelspec": {
   "display_name": "Python [conda env:aiida-1.0-dev]",
   "language": "python",
   "name": "conda-env-aiida-1.0-dev-py"
  },
  "language_info": {
   "codemirror_mode": {
    "name": "ipython",
    "version": 3
   },
   "file_extension": ".py",
   "mimetype": "text/x-python",
   "name": "python",
   "nbconvert_exporter": "python",
   "pygments_lexer": "ipython3",
   "version": "3.7.7"
  }
 },
 "nbformat": 4,
 "nbformat_minor": 4
}
