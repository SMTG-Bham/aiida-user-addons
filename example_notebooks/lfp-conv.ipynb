{
 "cells": [
  {
   "cell_type": "markdown",
   "id": "a5331273-0667-4efc-b969-f3c8320a52c3",
   "metadata": {},
   "source": [
    "## Convergence tests for LiFePO4"
   ]
  },
  {
   "cell_type": "code",
   "execution_count": 1,
   "id": "af2eea27-15c1-4de9-a3bf-5580a6e34062",
   "metadata": {},
   "outputs": [
    {
     "data": {
      "application/json": {
       "current_state": "Loaded AiiDA DB environment - profile name: ucl."
      },
      "text/html": [
       "<p>Loaded AiiDA DB environment - profile name: ucl.</p>"
      ],
      "text/latex": [
       "Loaded AiiDA DB environment - profile name: ucl.\n"
      ],
      "text/plain": [
       "Loaded AiiDA DB environment - profile name: ucl.\n"
      ]
     },
     "execution_count": 1,
     "metadata": {},
     "output_type": "execute_result"
    }
   ],
   "source": [
    "%load_ext aiida\n",
    "%aiida"
   ]
  },
  {
   "cell_type": "code",
   "execution_count": 2,
   "id": "5f224627-062f-47dd-871d-5ff0897d21e1",
   "metadata": {},
   "outputs": [],
   "source": [
    "lfp_structure = load_node('692cb240').inputs.structure"
   ]
  },
  {
   "cell_type": "code",
   "execution_count": 3,
   "id": "33c2b73a-1c43-4e66-9eb8-d603208b2c00",
   "metadata": {},
   "outputs": [],
   "source": [
    "from aiida_user_addons.vworkflows.new_conv import VaspConvergenceWorkChain, ConvOptions\n",
    "from aiida_user_addons.common.builder_updater import VaspRelaxUpdater, VaspConvUpdater\n",
    "from aiida_user_addons.tools.dryrun import dryrun_relax_builder\n",
    "\n",
    "from aiida_grouppathx import GroupPathX\n",
    "\n",
    "from aiida.engine import submit"
   ]
  },
  {
   "cell_type": "code",
   "execution_count": 4,
   "id": "3fa3741d-cae8-45ed-9aac-ad53fd06bc6c",
   "metadata": {},
   "outputs": [],
   "source": [
    "base = GroupPathX('lfp-demo')"
   ]
  },
  {
   "cell_type": "raw",
   "id": "35ec1a4d-c9ab-4e98-a4f4-1a658cfb8289",
   "metadata": {},
   "source": [
    "base.add_node(lfp_structure, 'lfp_structure')"
   ]
  },
  {
   "cell_type": "code",
   "execution_count": 5,
   "id": "692fb06a-b336-47e7-97d1-9ef519250c4d",
   "metadata": {},
   "outputs": [
    {
     "name": "stdout",
     "output_type": "stream",
     "text": [
      "Using input set file at: /home/bonan/aiida_envs/aiida-2.0/aiida-user-addons/aiida_user_addons/common/inputset/UCLRelaxSet.yaml\n"
     ]
    },
    {
     "data": {
      "text/plain": [
       "<aiida_user_addons.common.builder_updater.VaspConvUpdater at 0x7f50285f7f70>"
      ]
     },
     "execution_count": 5,
     "metadata": {},
     "output_type": "execute_result"
    }
   ],
   "source": [
    "config = {\n",
    "    'code': 'vasp-6.3.0-std@young',\n",
    "    'inputset': 'UCLRelaxSet',\n",
    "    'overrides': {'encut': 520, 'magmom_mapping': {'Fe': 4.0, 'default': 0.6}, 'ldauu_mapping' : {'Fe': ['d', 4.0]}, 'kpar': 8, 'ncore': 5, 'symprec': 1e-8},\n",
    "    'options':{\n",
    "        'max_wallclock_seconds': 1200,\n",
    "        'custom_scheduler_commands': '#$ -P Gold\\n#$ -A UCL_ChemM_Scanlon',\n",
    "        'resources': {'parallel_env': 'mpi', 'tot_num_mpiprocs': 80}\n",
    "    }\n",
    "}\n",
    "upd = VaspConvUpdater.init_from_config(lfp_structure, config)\n",
    "upd.set_label(\"LFP PBEsol CONV\")"
   ]
  },
  {
   "cell_type": "code",
   "execution_count": 6,
   "id": "14ddeed1-1618-4702-8f3b-eb87e9f86db3",
   "metadata": {},
   "outputs": [],
   "source": [
    "conv = ConvOptions()"
   ]
  },
  {
   "cell_type": "code",
   "execution_count": 7,
   "id": "ed2cc75d-170c-4b80-ad35-3789a16ab841",
   "metadata": {},
   "outputs": [],
   "source": [
    "upd.builder.conv_settings = conv.to_aiida_dict()"
   ]
  },
  {
   "cell_type": "raw",
   "id": "09b138c7-5a28-4dd9-bab7-06a3e4a10c6f",
   "metadata": {},
   "source": [
    "dryrun_relax_builder(upd.builder)"
   ]
  },
  {
   "cell_type": "code",
   "execution_count": 8,
   "id": "54a3a7ce-41c9-43cb-a0c1-dea5f5112903",
   "metadata": {
    "tags": []
   },
   "outputs": [
    {
     "data": {
      "text/plain": [
       "Process class: VaspConvergenceWorkChain\n",
       "Inputs:\n",
       "code: VASP 6.3.0 compiled by UCL on Young\n",
       "conv_settings:\n",
       "  cutoff_kconv: 450.0\n",
       "  cutoff_start: 300.0\n",
       "  cutoff_step: 50.0\n",
       "  cutoff_stop: 700.0\n",
       "  kspacing_cutconv: 0.07\n",
       "  kspacing_start: 0.07\n",
       "  kspacing_step: 0.01\n",
       "  kspacing_stop: 0.02\n",
       "dynamics: {}\n",
       "kpoints_spacing: 0.05\n",
       "metadata:\n",
       "  label: LFP PBEsol CONV\n",
       "options:\n",
       "  custom_scheduler_commands: '#$ -P Gold\n",
       "\n",
       "    #$ -A UCL_ChemM_Scanlon'\n",
       "  import_sys_environment: false\n",
       "  max_wallclock_seconds: 1200\n",
       "  resources:\n",
       "    parallel_env: mpi\n",
       "    tot_num_mpiprocs: 80\n",
       "parameters:\n",
       "  incar:\n",
       "    algo: normal\n",
       "    ediff: 2.8e-05\n",
       "    encut: 520\n",
       "    gga: ps\n",
       "    ismear: 0\n",
       "    ispin: 2\n",
       "    kpar: 8\n",
       "    lasph: true\n",
       "    ldau: true\n",
       "    ldauj:\n",
       "    - 0.0\n",
       "    - 0.0\n",
       "    - 0.0\n",
       "    - 0.0\n",
       "    ldaul:\n",
       "    - -1\n",
       "    - 2\n",
       "    - -1\n",
       "    - -1\n",
       "    ldautype: 2\n",
       "    ldauu:\n",
       "    - 0.0\n",
       "    - 4.0\n",
       "    - 0.0\n",
       "    - 0.0\n",
       "    lmaxmix: 4\n",
       "    lorbit: 11\n",
       "    lreal: false\n",
       "    lvhar: true\n",
       "    lwave: false\n",
       "    magmom:\n",
       "    - 0.6\n",
       "    - 0.6\n",
       "    - 0.6\n",
       "    - 0.6\n",
       "    - 4.0\n",
       "    - 4.0\n",
       "    - 4.0\n",
       "    - 4.0\n",
       "    - 0.6\n",
       "    - 0.6\n",
       "    - 0.6\n",
       "    - 0.6\n",
       "    - 0.6\n",
       "    - 0.6\n",
       "    - 0.6\n",
       "    - 0.6\n",
       "    - 0.6\n",
       "    - 0.6\n",
       "    - 0.6\n",
       "    - 0.6\n",
       "    - 0.6\n",
       "    - 0.6\n",
       "    - 0.6\n",
       "    - 0.6\n",
       "    - 0.6\n",
       "    - 0.6\n",
       "    - 0.6\n",
       "    - 0.6\n",
       "    ncore: 5\n",
       "    nedos: 2000\n",
       "    nelm: 200\n",
       "    nelmin: 4\n",
       "    nwrite: 1\n",
       "    prec: accurate\n",
       "    sigma: 0.05\n",
       "    symprec: 1.0e-08\n",
       "potential_family: PBE.54\n",
       "potential_mapping:\n",
       "  Fe: Fe_pv\n",
       "  Li: Li_sv\n",
       "  O: O\n",
       "  P: P\n",
       "structure: FeLiO4P\n"
      ]
     },
     "execution_count": 8,
     "metadata": {},
     "output_type": "execute_result"
    }
   ],
   "source": [
    "upd.builder"
   ]
  },
  {
   "cell_type": "code",
   "execution_count": 9,
   "id": "26992b50-fed7-4f38-8582-c103287ad290",
   "metadata": {},
   "outputs": [],
   "source": [
    "work = submit(upd.builder)"
   ]
  },
  {
   "cell_type": "raw",
   "id": "48ad0601-abd5-485f-b609-21e424149090",
   "metadata": {},
   "source": [
    "base.add_node(work, 'lfp_conv', True)"
   ]
  },
  {
   "cell_type": "code",
   "execution_count": 14,
   "id": "ee7eff65-2606-42df-8c4a-e71a6894e0a3",
   "metadata": {},
   "outputs": [
    {
     "name": "stdout",
     "output_type": "stream",
     "text": [
      "lfp-demo\n",
      "├── lfp_band *\n",
      "├── lfp_conv *\n",
      "├── lfp_deli_relaxation *\n",
      "├── lfp_relaxation *\n",
      "└── lfp_structure *\n",
      "\n"
     ]
    }
   ],
   "source": [
    "base.show_tree()"
   ]
  },
  {
   "cell_type": "code",
   "execution_count": 15,
   "id": "7a73eee9-657a-436b-97d9-98a5c1d86bd0",
   "metadata": {},
   "outputs": [
    {
     "data": {
      "text/plain": [
       "<module 'aiida_user_addons.vworkflows.new_conv' from '/home/bonan/aiida_envs/aiida-2.0/aiida-user-addons/aiida_user_addons/vworkflows/new_conv.py'>"
      ]
     },
     "execution_count": 15,
     "metadata": {},
     "output_type": "execute_result"
    }
   ],
   "source": [
    "from importlib import reload\n",
    "import aiida_user_addons.vworkflows.new_conv\n",
    "reload(aiida_user_addons.vworkflows.new_conv)"
   ]
  },
  {
   "cell_type": "code",
   "execution_count": 16,
   "id": "2bccf79e-aaa3-4083-924a-e6e734f1f514",
   "metadata": {},
   "outputs": [],
   "source": [
    "from aiida_user_addons.vworkflows.new_conv import get_conv_data, plot_conv_data"
   ]
  },
  {
   "cell_type": "code",
   "execution_count": 17,
   "id": "a711149d-a570-4c2a-a961-b89c9e517251",
   "metadata": {},
   "outputs": [],
   "source": [
    "work = base['lfp_conv'].get_node()\n",
    "cdf, kdf = get_conv_data(work)"
   ]
  },
  {
   "cell_type": "code",
   "execution_count": 18,
   "id": "040e0c6a-fadf-409e-8e61-cd375da07cc5",
   "metadata": {},
   "outputs": [
    {
     "data": {
      "text/html": [
       "<div>\n",
       "<style scoped>\n",
       "    .dataframe tbody tr th:only-of-type {\n",
       "        vertical-align: middle;\n",
       "    }\n",
       "\n",
       "    .dataframe tbody tr th {\n",
       "        vertical-align: top;\n",
       "    }\n",
       "\n",
       "    .dataframe thead th {\n",
       "        text-align: right;\n",
       "    }\n",
       "</style>\n",
       "<table border=\"1\" class=\"dataframe\">\n",
       "  <thead>\n",
       "    <tr style=\"text-align: right;\">\n",
       "      <th></th>\n",
       "      <th>mesh</th>\n",
       "      <th>energy</th>\n",
       "      <th>cutoff_energy</th>\n",
       "      <th>maximum_force</th>\n",
       "      <th>maximum_stress</th>\n",
       "      <th>energy_per_atom</th>\n",
       "      <th>dE_per_atom</th>\n",
       "    </tr>\n",
       "  </thead>\n",
       "  <tbody>\n",
       "    <tr>\n",
       "      <th>0</th>\n",
       "      <td>[4, 2, 3]</td>\n",
       "      <td>-205.617555</td>\n",
       "      <td>300.0</td>\n",
       "      <td>0.434304</td>\n",
       "      <td>448.038730</td>\n",
       "      <td>-7.343484</td>\n",
       "      <td>-0.179629</td>\n",
       "    </tr>\n",
       "    <tr>\n",
       "      <th>1</th>\n",
       "      <td>[4, 2, 3]</td>\n",
       "      <td>-201.975911</td>\n",
       "      <td>350.0</td>\n",
       "      <td>0.239799</td>\n",
       "      <td>212.277334</td>\n",
       "      <td>-7.213425</td>\n",
       "      <td>-0.049571</td>\n",
       "    </tr>\n",
       "    <tr>\n",
       "      <th>2</th>\n",
       "      <td>[4, 2, 3]</td>\n",
       "      <td>-200.897849</td>\n",
       "      <td>400.0</td>\n",
       "      <td>0.105000</td>\n",
       "      <td>105.633620</td>\n",
       "      <td>-7.174923</td>\n",
       "      <td>-0.011068</td>\n",
       "    </tr>\n",
       "    <tr>\n",
       "      <th>3</th>\n",
       "      <td>[4, 2, 3]</td>\n",
       "      <td>-200.547416</td>\n",
       "      <td>450.0</td>\n",
       "      <td>0.109609</td>\n",
       "      <td>61.076885</td>\n",
       "      <td>-7.162408</td>\n",
       "      <td>0.001447</td>\n",
       "    </tr>\n",
       "    <tr>\n",
       "      <th>4</th>\n",
       "      <td>[4, 2, 3]</td>\n",
       "      <td>-200.467966</td>\n",
       "      <td>500.0</td>\n",
       "      <td>0.108440</td>\n",
       "      <td>47.418999</td>\n",
       "      <td>-7.159570</td>\n",
       "      <td>0.004285</td>\n",
       "    </tr>\n",
       "    <tr>\n",
       "      <th>5</th>\n",
       "      <td>[4, 2, 3]</td>\n",
       "      <td>-200.488558</td>\n",
       "      <td>550.0</td>\n",
       "      <td>0.109544</td>\n",
       "      <td>46.579929</td>\n",
       "      <td>-7.160306</td>\n",
       "      <td>0.003549</td>\n",
       "    </tr>\n",
       "    <tr>\n",
       "      <th>6</th>\n",
       "      <td>[4, 2, 3]</td>\n",
       "      <td>-200.532035</td>\n",
       "      <td>600.0</td>\n",
       "      <td>0.111282</td>\n",
       "      <td>48.446370</td>\n",
       "      <td>-7.161858</td>\n",
       "      <td>0.001996</td>\n",
       "    </tr>\n",
       "    <tr>\n",
       "      <th>7</th>\n",
       "      <td>[4, 2, 3]</td>\n",
       "      <td>-200.564206</td>\n",
       "      <td>650.0</td>\n",
       "      <td>0.113094</td>\n",
       "      <td>49.388402</td>\n",
       "      <td>-7.163007</td>\n",
       "      <td>0.000847</td>\n",
       "    </tr>\n",
       "    <tr>\n",
       "      <th>8</th>\n",
       "      <td>[4, 2, 3]</td>\n",
       "      <td>-200.587934</td>\n",
       "      <td>700.0</td>\n",
       "      <td>0.115867</td>\n",
       "      <td>48.961938</td>\n",
       "      <td>-7.163855</td>\n",
       "      <td>0.000000</td>\n",
       "    </tr>\n",
       "  </tbody>\n",
       "</table>\n",
       "</div>"
      ],
      "text/plain": [
       "        mesh      energy  cutoff_energy  maximum_force  maximum_stress  \\\n",
       "0  [4, 2, 3] -205.617555          300.0       0.434304      448.038730   \n",
       "1  [4, 2, 3] -201.975911          350.0       0.239799      212.277334   \n",
       "2  [4, 2, 3] -200.897849          400.0       0.105000      105.633620   \n",
       "3  [4, 2, 3] -200.547416          450.0       0.109609       61.076885   \n",
       "4  [4, 2, 3] -200.467966          500.0       0.108440       47.418999   \n",
       "5  [4, 2, 3] -200.488558          550.0       0.109544       46.579929   \n",
       "6  [4, 2, 3] -200.532035          600.0       0.111282       48.446370   \n",
       "7  [4, 2, 3] -200.564206          650.0       0.113094       49.388402   \n",
       "8  [4, 2, 3] -200.587934          700.0       0.115867       48.961938   \n",
       "\n",
       "   energy_per_atom  dE_per_atom  \n",
       "0        -7.343484    -0.179629  \n",
       "1        -7.213425    -0.049571  \n",
       "2        -7.174923    -0.011068  \n",
       "3        -7.162408     0.001447  \n",
       "4        -7.159570     0.004285  \n",
       "5        -7.160306     0.003549  \n",
       "6        -7.161858     0.001996  \n",
       "7        -7.163007     0.000847  \n",
       "8        -7.163855     0.000000  "
      ]
     },
     "execution_count": 18,
     "metadata": {},
     "output_type": "execute_result"
    }
   ],
   "source": [
    "cdf"
   ]
  },
  {
   "cell_type": "code",
   "execution_count": 19,
   "id": "640ccdf8-1bf6-4398-b934-34db98a58122",
   "metadata": {},
   "outputs": [],
   "source": [
    "cdf['abs_dE'] = abs(cdf.dE_per_atom)"
   ]
  },
  {
   "cell_type": "code",
   "execution_count": 20,
   "id": "d8bbbbfe-f8c2-457d-927d-d22c101d3a27",
   "metadata": {},
   "outputs": [
    {
     "data": {
      "text/plain": [
       "<AxesSubplot:xlabel='cutoff_energy'>"
      ]
     },
     "execution_count": 20,
     "metadata": {},
     "output_type": "execute_result"
    },
    {
     "data": {
      "image/png": "[encoded data removed]",
      "text/plain": [
       "<Figure size 432x288 with 1 Axes>"
      ]
     },
     "metadata": {
      "needs_background": "light"
     },
     "output_type": "display_data"
    }
   ],
   "source": [
    "cdf.plot('cutoff_energy', 'energy_per_atom', marker='x')"
   ]
  },
  {
   "cell_type": "code",
   "execution_count": 21,
   "id": "6abe66fa-a145-4a71-a59b-277820c3ad97",
   "metadata": {},
   "outputs": [
    {
     "data": {
      "text/plain": [
       "<AxesSubplot:xlabel='cutoff_energy'>"
      ]
     },
     "execution_count": 21,
     "metadata": {},
     "output_type": "execute_result"
    },
    {
     "data": {
      "image/png": "[encoded data removed]",
      "text/plain": [
       "<Figure size 432x288 with 1 Axes>"
      ]
     },
     "metadata": {
      "needs_background": "light"
     },
     "output_type": "display_data"
    }
   ],
   "source": [
    "cdf.plot('cutoff_energy', 'abs_dE', logy=True)"
   ]
  },
  {
   "cell_type": "code",
   "execution_count": 22,
   "id": "30a90b0c-c0ec-470f-9cd5-fff9bb5ca1f0",
   "metadata": {},
   "outputs": [
    {
     "data": {
      "text/plain": [
       "<AxesSubplot:xlabel='cutoff_energy'>"
      ]
     },
     "execution_count": 22,
     "metadata": {},
     "output_type": "execute_result"
    },
    {
     "data": {
      "image/png": "[encoded data removed]",
      "text/plain": [
       "<Figure size 432x288 with 1 Axes>"
      ]
     },
     "metadata": {
      "needs_background": "light"
     },
     "output_type": "display_data"
    }
   ],
   "source": [
    "cdf.plot('cutoff_energy', 'maximum_force', marker='x')"
   ]
  },
  {
   "cell_type": "code",
   "execution_count": 23,
   "id": "54e14c33-cf3c-4967-a542-32349143b950",
   "metadata": {},
   "outputs": [
    {
     "data": {
      "text/plain": [
       "<AxesSubplot:xlabel='cutoff_energy'>"
      ]
     },
     "execution_count": 23,
     "metadata": {},
     "output_type": "execute_result"
    },
    {
     "data": {
      "image/png": "[encoded data removed]",
      "text/plain": [
       "<Figure size 432x288 with 1 Axes>"
      ]
     },
     "metadata": {
      "needs_background": "light"
     },
     "output_type": "display_data"
    }
   ],
   "source": [
    "cdf.plot('cutoff_energy', 'maximum_stress', marker='x')"
   ]
  },
  {
   "cell_type": "code",
   "execution_count": 24,
   "id": "c3f8a05f-c5f2-4cd7-afc9-13352bc9f24a",
   "metadata": {},
   "outputs": [
    {
     "data": {
      "text/html": [
       "<div>\n",
       "<style scoped>\n",
       "    .dataframe tbody tr th:only-of-type {\n",
       "        vertical-align: middle;\n",
       "    }\n",
       "\n",
       "    .dataframe tbody tr th {\n",
       "        vertical-align: top;\n",
       "    }\n",
       "\n",
       "    .dataframe thead th {\n",
       "        text-align: right;\n",
       "    }\n",
       "</style>\n",
       "<table border=\"1\" class=\"dataframe\">\n",
       "  <thead>\n",
       "    <tr style=\"text-align: right;\">\n",
       "      <th></th>\n",
       "      <th>mesh</th>\n",
       "      <th>energy</th>\n",
       "      <th>cutoff_energy</th>\n",
       "      <th>maximum_force</th>\n",
       "      <th>maximum_stress</th>\n",
       "      <th>kpoints_spacing</th>\n",
       "      <th>energy_per_atom</th>\n",
       "      <th>dE_per_atom</th>\n",
       "    </tr>\n",
       "  </thead>\n",
       "  <tbody>\n",
       "    <tr>\n",
       "      <th>0</th>\n",
       "      <td>[4, 2, 3]</td>\n",
       "      <td>-200.547416</td>\n",
       "      <td>450.0</td>\n",
       "      <td>0.109609</td>\n",
       "      <td>61.076885</td>\n",
       "      <td>0.07</td>\n",
       "      <td>-7.162408</td>\n",
       "      <td>0.000022</td>\n",
       "    </tr>\n",
       "    <tr>\n",
       "      <th>1</th>\n",
       "      <td>[4, 2, 3]</td>\n",
       "      <td>-200.547416</td>\n",
       "      <td>450.0</td>\n",
       "      <td>0.109609</td>\n",
       "      <td>61.076885</td>\n",
       "      <td>0.06</td>\n",
       "      <td>-7.162408</td>\n",
       "      <td>0.000022</td>\n",
       "    </tr>\n",
       "    <tr>\n",
       "      <th>2</th>\n",
       "      <td>[5, 2, 4]</td>\n",
       "      <td>-200.547185</td>\n",
       "      <td>450.0</td>\n",
       "      <td>0.109530</td>\n",
       "      <td>60.972700</td>\n",
       "      <td>0.05</td>\n",
       "      <td>-7.162399</td>\n",
       "      <td>0.000030</td>\n",
       "    </tr>\n",
       "    <tr>\n",
       "      <th>3</th>\n",
       "      <td>[6, 3, 5]</td>\n",
       "      <td>-200.548403</td>\n",
       "      <td>450.0</td>\n",
       "      <td>0.109653</td>\n",
       "      <td>61.029623</td>\n",
       "      <td>0.04</td>\n",
       "      <td>-7.162443</td>\n",
       "      <td>-0.000013</td>\n",
       "    </tr>\n",
       "    <tr>\n",
       "      <th>4</th>\n",
       "      <td>[8, 4, 6]</td>\n",
       "      <td>-200.548470</td>\n",
       "      <td>450.0</td>\n",
       "      <td>0.109194</td>\n",
       "      <td>61.017755</td>\n",
       "      <td>0.03</td>\n",
       "      <td>-7.162445</td>\n",
       "      <td>-0.000016</td>\n",
       "    </tr>\n",
       "    <tr>\n",
       "      <th>5</th>\n",
       "      <td>[11, 5, 9]</td>\n",
       "      <td>-200.548030</td>\n",
       "      <td>450.0</td>\n",
       "      <td>0.109458</td>\n",
       "      <td>61.076987</td>\n",
       "      <td>0.02</td>\n",
       "      <td>-7.162430</td>\n",
       "      <td>0.000000</td>\n",
       "    </tr>\n",
       "  </tbody>\n",
       "</table>\n",
       "</div>"
      ],
      "text/plain": [
       "         mesh      energy  cutoff_energy  maximum_force  maximum_stress  \\\n",
       "0   [4, 2, 3] -200.547416          450.0       0.109609       61.076885   \n",
       "1   [4, 2, 3] -200.547416          450.0       0.109609       61.076885   \n",
       "2   [5, 2, 4] -200.547185          450.0       0.109530       60.972700   \n",
       "3   [6, 3, 5] -200.548403          450.0       0.109653       61.029623   \n",
       "4   [8, 4, 6] -200.548470          450.0       0.109194       61.017755   \n",
       "5  [11, 5, 9] -200.548030          450.0       0.109458       61.076987   \n",
       "\n",
       "   kpoints_spacing  energy_per_atom  dE_per_atom  \n",
       "0             0.07        -7.162408     0.000022  \n",
       "1             0.06        -7.162408     0.000022  \n",
       "2             0.05        -7.162399     0.000030  \n",
       "3             0.04        -7.162443    -0.000013  \n",
       "4             0.03        -7.162445    -0.000016  \n",
       "5             0.02        -7.162430     0.000000  "
      ]
     },
     "execution_count": 24,
     "metadata": {},
     "output_type": "execute_result"
    }
   ],
   "source": [
    "kdf"
   ]
  },
  {
   "cell_type": "code",
   "execution_count": 25,
   "id": "dd07e03c-a4d6-48fa-94b8-f6f5b5d3d698",
   "metadata": {},
   "outputs": [
    {
     "data": {
      "image/png": "[encoded data removed]",
      "text/plain": [
       "<Figure size 432x288 with 3 Axes>"
      ]
     },
     "metadata": {
      "needs_background": "light"
     },
     "output_type": "display_data"
    },
    {
     "data": {
      "image/png": "[encoded data removed]",
      "text/plain": [
       "<Figure size 432x288 with 3 Axes>"
      ]
     },
     "metadata": {
      "needs_background": "light"
     },
     "output_type": "display_data"
    }
   ],
   "source": [
    "fig1, fig2 = plot_conv_data(cdf, kdf)"
   ]
  },
  {
   "cell_type": "code",
   "execution_count": 45,
   "id": "56d9f787-dd79-4b35-8cc8-4a86ebc43e2e",
   "metadata": {},
   "outputs": [
    {
     "name": "stdout",
     "output_type": "stream",
     "text": []
    },
    {
     "name": "stdout",
     "output_type": "stream",
     "text": [
      "\u001b[34m\u001b[1mReport\u001b[0m: \n",
      "Archive Parameters\n",
      "--------------------  ------------------\n",
      "Path                  lfp-examples.aiida\n",
      "Version               main_0001\n",
      "Compression           6\n",
      "\n",
      "Inclusion rules\n",
      "----------------------------  --------\n",
      "Computers/Nodes/Groups/Users  Selected\n",
      "Computer Authinfos            False\n",
      "Node Comments                 True\n",
      "Node Logs                     True\n",
      "\n",
      "Traversal rules\n",
      "---------------------------------  -----\n",
      "Follow links input calc forwards   False\n",
      "Follow links input calc backwards  True\n",
      "Follow links create forwards       True\n",
      "Follow links create backwards      True\n",
      "Follow links return forwards       True\n",
      "Follow links return backwards      False\n",
      "Follow links input work forwards   False\n",
      "Follow links input work backwards  True\n",
      "Follow links call calc forwards    True\n",
      "Follow links call calc backwards   True\n",
      "Follow links call work forwards    True\n",
      "Follow links call work backwards   True\n",
      "\n",
      "\u001b[34m\u001b[1mReport\u001b[0m: Validating Nodes                                           \n",
      "\u001b[34m\u001b[1mReport\u001b[0m: Creating archive with:\n",
      "-----------  ----\n",
      "users           1\n",
      "computers       3\n",
      "groups          2\n",
      "nodes         848\n",
      "logs          458\n",
      "links        1938\n",
      "group_nodes    20\n",
      "-----------  ----\n",
      "\u001b[34m\u001b[1mReport\u001b[0m: Finalizing archive creation...                             \n",
      "\u001b[34m\u001b[1mReport\u001b[0m: Archive created successfully\n",
      "\u001b[32m\u001b[1mSuccess: \u001b[0m\u001b[22mwrote the export archive file to lfp-examples.aiida\u001b[0m\n"
     ]
    }
   ],
   "source": [
    "!verdi archive create -G li-metal-refs {base.path} -- lfp-examples.aiida"
   ]
  }
 ],
 "metadata": {
  "kernelspec": {
   "display_name": "Python [conda env:aiida-2.0]",
   "language": "python",
   "name": "conda-env-aiida-2.0-py"
  },
  "language_info": {
   "codemirror_mode": {
    "name": "ipython",
    "version": 3
   },
   "file_extension": ".py",
   "mimetype": "text/x-python",
   "name": "python",
   "nbconvert_exporter": "python",
   "pygments_lexer": "ipython3",
   "version": "3.9.12"
  }
 },
 "nbformat": 4,
 "nbformat_minor": 5
}
